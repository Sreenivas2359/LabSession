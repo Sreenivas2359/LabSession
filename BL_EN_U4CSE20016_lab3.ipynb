{
  "cells": [
    {
      "cell_type": "markdown",
      "metadata": {
        "id": "view-in-github",
        "colab_type": "text"
      },
      "source": [
        "<a href=\"https://colab.research.google.com/github/Sreenivas2359/LabSession/blob/main/BL_EN_U4CSE20016_lab3.ipynb\" target=\"_parent\"><img src=\"https://colab.research.google.com/assets/colab-badge.svg\" alt=\"Open In Colab\"/></a>"
      ]
    },
    {
      "cell_type": "code",
      "execution_count": null,
      "id": "81ffe2c6",
      "metadata": {
        "id": "81ffe2c6"
      },
      "outputs": [],
      "source": [
        "import numpy as np\n",
        "import pandas as pd\n",
        "import matplotlib.pyplot as plt\n",
        "from math import sqrt\n",
        "from sklearn.model_selection import train_test_split\n",
        "from sklearn.neighbors import KNeighborsClassifier"
      ]
    },
    {
      "cell_type": "code",
      "execution_count": null,
      "id": "2d678fd5",
      "metadata": {
        "id": "2d678fd5"
      },
      "outputs": [],
      "source": [
        "data = pd.read_excel(r'/content/dataset.xlsx')"
      ]
    },
    {
      "cell_type": "code",
      "execution_count": null,
      "id": "eba67385",
      "metadata": {
        "id": "eba67385"
      },
      "outputs": [],
      "source": [
        "data=data.dropna(axis=0)"
      ]
    },
    {
      "cell_type": "code",
      "source": [
        "data"
      ],
      "metadata": {
        "colab": {
          "base_uri": "https://localhost:8080/",
          "height": 1000
        },
        "id": "gasRNfXFxEiE",
        "outputId": "7b159937-f7df-480f-f6c3-4a6baa1c6b83"
      },
      "id": "gasRNfXFxEiE",
      "execution_count": null,
      "outputs": [
        {
          "output_type": "execute_result",
          "data": {
            "text/plain": [
              "                        State     a1     a2     a3    a4     a5      a6  \\\n",
              "0              Andhra Pradesh  63.50  65.00  51.25  0.91  15.71   98.10   \n",
              "1           Arunachal Pradesh  79.02  41.67  36.75  2.92  17.11   51.07   \n",
              "2                       Assam  80.65  61.67  51.00  2.88  27.06   40.14   \n",
              "3                       Bihar  77.04  55.67  47.75  4.95   25.9   53.97   \n",
              "4                Chhattisgarh  77.04  51.67  45.25  3.75  21.26   73.47   \n",
              "5                         Goa  90.46  49.00  42.25  Null  11.15   97.20   \n",
              "6                     Gujarat  74.97  58.00  54.25  1.94  25.04   99.95   \n",
              "7                     Haryana  74.91  51.00  44.50  1.05  15.89   95.33   \n",
              "8            Himachal Pradesh  92.87  55.33  45.00  0.21   6.07   95.75   \n",
              "9             Jammu & Kashmir  57.22  54.33  38.00  2.04  17.28   56.39   \n",
              "10                  Jharkhand  67.99  60.33  54.75  2.02     24   71.04   \n",
              "11                  Karnataka  85.54  68.67  54.50  1.49  26.18   95.85   \n",
              "12                     Kerala  91.76  65.67  50.25  0.82  12.32   97.78   \n",
              "13             Madhya Pradesh  69.74  53.33  45.50  3.78  24.77   77.25   \n",
              "15                 Maharastra  80.92  56.33  46.25  0.81  12.87   99.02   \n",
              "17                    Manipur  88.21  58.67  44.75  1.72  14.38   43.27   \n",
              "19                  Meghalaya  68.39  45.33  39.25   2.9  20.52   30.47   \n",
              "21                    Mizoram  79.60  48.67  36.75   0.6  21.88   60.40   \n",
              "23                   Nagaland  56.24  49.67  37.75   0.9  18.23   32.92   \n",
              "24                     Odisha  82.24  54.00  45.50   6.1  29.56   81.07   \n",
              "25                     Punjab  78.56  48.00  39.25  2.28   8.86   91.38   \n",
              "26                  Rajasthan  72.49  68.00  62.25  5.02  13.48   94.01   \n",
              "27                     Sikkim  45.47  45.67  39.25  0.58  15.89   48.40   \n",
              "28                 Tamil Nadu  92.86  53.00  40.25  0.66    8.1   97.58   \n",
              "29                  Telangana  82.54  55.67  42.00  Null  15.53   97.64   \n",
              "30                    Tripura  94.72  55.00  42.75  0.79  28.42   40.12   \n",
              "31              Uttar Pradesh  68.71  50.67  44.25   3.9  10.22   77.51   \n",
              "32                Uttarakhand  77.20  61.33  48.50  5.07   10.4   87.11   \n",
              "33                West Bengal  72.28  52.67  43.25  2.45   17.8   52.53   \n",
              "34  Andaman & Nicobar Islands  77.49  52.00  39.00  2.12   9.87   98.86   \n",
              "35                 Chandigarh  78.74  67.00  53.00  0.44   Null   98.88   \n",
              "36       Dadra & Nagar Haveli  76.79  62.00  52.00  1.49  16.77   92.84   \n",
              "37              Daman and Diu  67.05  46.67  38.50  1.28  32.27   92.47   \n",
              "38                      Delhi  92.95  48.33  39.25  3.15  11.81  100.00   \n",
              "39                Lakshadweep  81.94  47.33  36.00  3.67   6.76   96.51   \n",
              "40                 Puducherry  79.52  51.33  34.25  0.18  12.19   99.88   \n",
              "\n",
              "        a7    a8     a9    a10    a11    a12    a13    a14  score  Class  \n",
              "0    85.99  33.0   89.0   74.0   89.0   74.0   97.0   82.0   77.0    0.0  \n",
              "1    88.87  62.0    0.0   11.0   55.0   68.0   30.0   86.0   44.0    1.0  \n",
              "2    75.33  65.0   76.0   73.0   55.0   23.0   14.0   68.0   54.0    0.0  \n",
              "3    21.75  58.0   53.0   59.0   20.0   29.0   34.0    0.0   36.0    1.0  \n",
              "4    82.89  58.0   38.0   48.0   40.0   49.0   62.0   78.0   53.0    0.0  \n",
              "5    90.29  82.0   28.0   35.0    0.0   95.0   96.0   88.0   71.0    1.0  \n",
              "6    70.47  54.0   62.0   87.0   71.0   32.0  100.0   62.0   67.0    0.0  \n",
              "7    75.02  54.0   36.0   45.0   87.0   74.0   93.0   68.0   65.0    1.0  \n",
              "8    96.19  87.0   52.0   47.0  100.0  100.0   94.0   95.0   82.0    0.0  \n",
              "9    96.07  22.0   48.0   16.0   70.0   67.0   37.0   95.0   51.0    1.0  \n",
              "10   50.01  41.0   71.0   89.0   70.0   37.0   58.0   36.0   58.0    0.0  \n",
              "11   76.05  73.0  100.0   88.0   79.0   27.0   94.0   69.0   76.0    1.0  \n",
              "12   91.41  85.0   92.0   70.0   91.0   90.0   97.0   89.0   87.0    0.0  \n",
              "13   71.03  45.0   44.0   49.0   40.0   34.0   67.0   63.0   49.0    1.0  \n",
              "15   75.32  65.0   56.0   52.0   91.0   87.0   99.0   68.0   74.0    1.0  \n",
              "17   93.15  78.0   65.0   46.0   75.0   80.0   18.0   91.0   65.0    1.0  \n",
              "19   86.87  42.0   14.0   22.0   55.0   53.0    0.0   83.0   38.0    1.0  \n",
              "21   94.23  63.0   27.0   11.0   94.0   47.0   43.0   93.0   54.0    1.0  \n",
              "23   95.91  20.0   31.0   15.0   89.0   63.0    4.0   95.0   45.0    1.0  \n",
              "24   80.70  67.0   47.0   49.0    0.0   12.0   73.0   75.0   46.0    0.0  \n",
              "25   86.01  61.0   24.0   22.0   66.0  100.0   88.0   82.0   63.0    1.0  \n",
              "26   74.35  50.0  100.0  100.0   19.0   84.0   91.0   67.0   73.0    0.0  \n",
              "27   99.03   0.0   15.0   22.0   95.0   74.0   26.0   99.0   47.0    1.0  \n",
              "28   82.89  87.0   43.0   26.0   93.0  100.0   97.0   78.0   75.0    0.0  \n",
              "29   77.81  68.0   53.0   34.0    0.0   75.0   97.0   72.0   66.0    1.0  \n",
              "30   95.08  90.0   51.0   37.0   91.0   17.0   14.0   94.0   56.0    0.0  \n",
              "31   55.96  43.0   34.0   44.0   38.0   99.0   68.0   44.0   53.0    1.0  \n",
              "32   87.94  58.0   75.0   62.0   18.0   98.0   81.0   85.0   68.0    0.0  \n",
              "33   74.64  49.0   42.0   39.0   63.0   65.0   32.0   68.0   51.0    1.0  \n",
              "34   99.51  59.0   39.0   21.0   68.0  100.0   98.0   99.0   69.0    0.0  \n",
              "35   82.00  61.0   97.0   82.0   97.0    0.0   98.0   77.0   85.0    1.0  \n",
              "36   88.16  57.0   78.0   77.0   79.0   70.0   90.0   85.0   77.0    0.0  \n",
              "37   79.17  40.0   19.0   19.0   83.0    0.0   89.0   73.0   46.0    1.0  \n",
              "38   46.43  87.0   25.0   22.0   51.0   92.0  100.0   32.0   58.0    0.0  \n",
              "39  100.00  67.0   22.0    8.0   42.0  100.0   95.0  100.0   62.0    1.0  \n",
              "40   95.17  62.0   37.0    0.0  100.0   90.0  100.0   94.0   69.0    0.0  "
            ],
            "text/html": [
              "\n",
              "  <div id=\"df-732676e0-0a10-4a03-8884-51d9ab9d0327\">\n",
              "    <div class=\"colab-df-container\">\n",
              "      <div>\n",
              "<style scoped>\n",
              "    .dataframe tbody tr th:only-of-type {\n",
              "        vertical-align: middle;\n",
              "    }\n",
              "\n",
              "    .dataframe tbody tr th {\n",
              "        vertical-align: top;\n",
              "    }\n",
              "\n",
              "    .dataframe thead th {\n",
              "        text-align: right;\n",
              "    }\n",
              "</style>\n",
              "<table border=\"1\" class=\"dataframe\">\n",
              "  <thead>\n",
              "    <tr style=\"text-align: right;\">\n",
              "      <th></th>\n",
              "      <th>State</th>\n",
              "      <th>a1</th>\n",
              "      <th>a2</th>\n",
              "      <th>a3</th>\n",
              "      <th>a4</th>\n",
              "      <th>a5</th>\n",
              "      <th>a6</th>\n",
              "      <th>a7</th>\n",
              "      <th>a8</th>\n",
              "      <th>a9</th>\n",
              "      <th>a10</th>\n",
              "      <th>a11</th>\n",
              "      <th>a12</th>\n",
              "      <th>a13</th>\n",
              "      <th>a14</th>\n",
              "      <th>score</th>\n",
              "      <th>Class</th>\n",
              "    </tr>\n",
              "  </thead>\n",
              "  <tbody>\n",
              "    <tr>\n",
              "      <th>0</th>\n",
              "      <td>Andhra Pradesh</td>\n",
              "      <td>63.50</td>\n",
              "      <td>65.00</td>\n",
              "      <td>51.25</td>\n",
              "      <td>0.91</td>\n",
              "      <td>15.71</td>\n",
              "      <td>98.10</td>\n",
              "      <td>85.99</td>\n",
              "      <td>33.0</td>\n",
              "      <td>89.0</td>\n",
              "      <td>74.0</td>\n",
              "      <td>89.0</td>\n",
              "      <td>74.0</td>\n",
              "      <td>97.0</td>\n",
              "      <td>82.0</td>\n",
              "      <td>77.0</td>\n",
              "      <td>0.0</td>\n",
              "    </tr>\n",
              "    <tr>\n",
              "      <th>1</th>\n",
              "      <td>Arunachal Pradesh</td>\n",
              "      <td>79.02</td>\n",
              "      <td>41.67</td>\n",
              "      <td>36.75</td>\n",
              "      <td>2.92</td>\n",
              "      <td>17.11</td>\n",
              "      <td>51.07</td>\n",
              "      <td>88.87</td>\n",
              "      <td>62.0</td>\n",
              "      <td>0.0</td>\n",
              "      <td>11.0</td>\n",
              "      <td>55.0</td>\n",
              "      <td>68.0</td>\n",
              "      <td>30.0</td>\n",
              "      <td>86.0</td>\n",
              "      <td>44.0</td>\n",
              "      <td>1.0</td>\n",
              "    </tr>\n",
              "    <tr>\n",
              "      <th>2</th>\n",
              "      <td>Assam</td>\n",
              "      <td>80.65</td>\n",
              "      <td>61.67</td>\n",
              "      <td>51.00</td>\n",
              "      <td>2.88</td>\n",
              "      <td>27.06</td>\n",
              "      <td>40.14</td>\n",
              "      <td>75.33</td>\n",
              "      <td>65.0</td>\n",
              "      <td>76.0</td>\n",
              "      <td>73.0</td>\n",
              "      <td>55.0</td>\n",
              "      <td>23.0</td>\n",
              "      <td>14.0</td>\n",
              "      <td>68.0</td>\n",
              "      <td>54.0</td>\n",
              "      <td>0.0</td>\n",
              "    </tr>\n",
              "    <tr>\n",
              "      <th>3</th>\n",
              "      <td>Bihar</td>\n",
              "      <td>77.04</td>\n",
              "      <td>55.67</td>\n",
              "      <td>47.75</td>\n",
              "      <td>4.95</td>\n",
              "      <td>25.9</td>\n",
              "      <td>53.97</td>\n",
              "      <td>21.75</td>\n",
              "      <td>58.0</td>\n",
              "      <td>53.0</td>\n",
              "      <td>59.0</td>\n",
              "      <td>20.0</td>\n",
              "      <td>29.0</td>\n",
              "      <td>34.0</td>\n",
              "      <td>0.0</td>\n",
              "      <td>36.0</td>\n",
              "      <td>1.0</td>\n",
              "    </tr>\n",
              "    <tr>\n",
              "      <th>4</th>\n",
              "      <td>Chhattisgarh</td>\n",
              "      <td>77.04</td>\n",
              "      <td>51.67</td>\n",
              "      <td>45.25</td>\n",
              "      <td>3.75</td>\n",
              "      <td>21.26</td>\n",
              "      <td>73.47</td>\n",
              "      <td>82.89</td>\n",
              "      <td>58.0</td>\n",
              "      <td>38.0</td>\n",
              "      <td>48.0</td>\n",
              "      <td>40.0</td>\n",
              "      <td>49.0</td>\n",
              "      <td>62.0</td>\n",
              "      <td>78.0</td>\n",
              "      <td>53.0</td>\n",
              "      <td>0.0</td>\n",
              "    </tr>\n",
              "    <tr>\n",
              "      <th>5</th>\n",
              "      <td>Goa</td>\n",
              "      <td>90.46</td>\n",
              "      <td>49.00</td>\n",
              "      <td>42.25</td>\n",
              "      <td>Null</td>\n",
              "      <td>11.15</td>\n",
              "      <td>97.20</td>\n",
              "      <td>90.29</td>\n",
              "      <td>82.0</td>\n",
              "      <td>28.0</td>\n",
              "      <td>35.0</td>\n",
              "      <td>0.0</td>\n",
              "      <td>95.0</td>\n",
              "      <td>96.0</td>\n",
              "      <td>88.0</td>\n",
              "      <td>71.0</td>\n",
              "      <td>1.0</td>\n",
              "    </tr>\n",
              "    <tr>\n",
              "      <th>6</th>\n",
              "      <td>Gujarat</td>\n",
              "      <td>74.97</td>\n",
              "      <td>58.00</td>\n",
              "      <td>54.25</td>\n",
              "      <td>1.94</td>\n",
              "      <td>25.04</td>\n",
              "      <td>99.95</td>\n",
              "      <td>70.47</td>\n",
              "      <td>54.0</td>\n",
              "      <td>62.0</td>\n",
              "      <td>87.0</td>\n",
              "      <td>71.0</td>\n",
              "      <td>32.0</td>\n",
              "      <td>100.0</td>\n",
              "      <td>62.0</td>\n",
              "      <td>67.0</td>\n",
              "      <td>0.0</td>\n",
              "    </tr>\n",
              "    <tr>\n",
              "      <th>7</th>\n",
              "      <td>Haryana</td>\n",
              "      <td>74.91</td>\n",
              "      <td>51.00</td>\n",
              "      <td>44.50</td>\n",
              "      <td>1.05</td>\n",
              "      <td>15.89</td>\n",
              "      <td>95.33</td>\n",
              "      <td>75.02</td>\n",
              "      <td>54.0</td>\n",
              "      <td>36.0</td>\n",
              "      <td>45.0</td>\n",
              "      <td>87.0</td>\n",
              "      <td>74.0</td>\n",
              "      <td>93.0</td>\n",
              "      <td>68.0</td>\n",
              "      <td>65.0</td>\n",
              "      <td>1.0</td>\n",
              "    </tr>\n",
              "    <tr>\n",
              "      <th>8</th>\n",
              "      <td>Himachal Pradesh</td>\n",
              "      <td>92.87</td>\n",
              "      <td>55.33</td>\n",
              "      <td>45.00</td>\n",
              "      <td>0.21</td>\n",
              "      <td>6.07</td>\n",
              "      <td>95.75</td>\n",
              "      <td>96.19</td>\n",
              "      <td>87.0</td>\n",
              "      <td>52.0</td>\n",
              "      <td>47.0</td>\n",
              "      <td>100.0</td>\n",
              "      <td>100.0</td>\n",
              "      <td>94.0</td>\n",
              "      <td>95.0</td>\n",
              "      <td>82.0</td>\n",
              "      <td>0.0</td>\n",
              "    </tr>\n",
              "    <tr>\n",
              "      <th>9</th>\n",
              "      <td>Jammu &amp; Kashmir</td>\n",
              "      <td>57.22</td>\n",
              "      <td>54.33</td>\n",
              "      <td>38.00</td>\n",
              "      <td>2.04</td>\n",
              "      <td>17.28</td>\n",
              "      <td>56.39</td>\n",
              "      <td>96.07</td>\n",
              "      <td>22.0</td>\n",
              "      <td>48.0</td>\n",
              "      <td>16.0</td>\n",
              "      <td>70.0</td>\n",
              "      <td>67.0</td>\n",
              "      <td>37.0</td>\n",
              "      <td>95.0</td>\n",
              "      <td>51.0</td>\n",
              "      <td>1.0</td>\n",
              "    </tr>\n",
              "    <tr>\n",
              "      <th>10</th>\n",
              "      <td>Jharkhand</td>\n",
              "      <td>67.99</td>\n",
              "      <td>60.33</td>\n",
              "      <td>54.75</td>\n",
              "      <td>2.02</td>\n",
              "      <td>24</td>\n",
              "      <td>71.04</td>\n",
              "      <td>50.01</td>\n",
              "      <td>41.0</td>\n",
              "      <td>71.0</td>\n",
              "      <td>89.0</td>\n",
              "      <td>70.0</td>\n",
              "      <td>37.0</td>\n",
              "      <td>58.0</td>\n",
              "      <td>36.0</td>\n",
              "      <td>58.0</td>\n",
              "      <td>0.0</td>\n",
              "    </tr>\n",
              "    <tr>\n",
              "      <th>11</th>\n",
              "      <td>Karnataka</td>\n",
              "      <td>85.54</td>\n",
              "      <td>68.67</td>\n",
              "      <td>54.50</td>\n",
              "      <td>1.49</td>\n",
              "      <td>26.18</td>\n",
              "      <td>95.85</td>\n",
              "      <td>76.05</td>\n",
              "      <td>73.0</td>\n",
              "      <td>100.0</td>\n",
              "      <td>88.0</td>\n",
              "      <td>79.0</td>\n",
              "      <td>27.0</td>\n",
              "      <td>94.0</td>\n",
              "      <td>69.0</td>\n",
              "      <td>76.0</td>\n",
              "      <td>1.0</td>\n",
              "    </tr>\n",
              "    <tr>\n",
              "      <th>12</th>\n",
              "      <td>Kerala</td>\n",
              "      <td>91.76</td>\n",
              "      <td>65.67</td>\n",
              "      <td>50.25</td>\n",
              "      <td>0.82</td>\n",
              "      <td>12.32</td>\n",
              "      <td>97.78</td>\n",
              "      <td>91.41</td>\n",
              "      <td>85.0</td>\n",
              "      <td>92.0</td>\n",
              "      <td>70.0</td>\n",
              "      <td>91.0</td>\n",
              "      <td>90.0</td>\n",
              "      <td>97.0</td>\n",
              "      <td>89.0</td>\n",
              "      <td>87.0</td>\n",
              "      <td>0.0</td>\n",
              "    </tr>\n",
              "    <tr>\n",
              "      <th>13</th>\n",
              "      <td>Madhya Pradesh</td>\n",
              "      <td>69.74</td>\n",
              "      <td>53.33</td>\n",
              "      <td>45.50</td>\n",
              "      <td>3.78</td>\n",
              "      <td>24.77</td>\n",
              "      <td>77.25</td>\n",
              "      <td>71.03</td>\n",
              "      <td>45.0</td>\n",
              "      <td>44.0</td>\n",
              "      <td>49.0</td>\n",
              "      <td>40.0</td>\n",
              "      <td>34.0</td>\n",
              "      <td>67.0</td>\n",
              "      <td>63.0</td>\n",
              "      <td>49.0</td>\n",
              "      <td>1.0</td>\n",
              "    </tr>\n",
              "    <tr>\n",
              "      <th>15</th>\n",
              "      <td>Maharastra</td>\n",
              "      <td>80.92</td>\n",
              "      <td>56.33</td>\n",
              "      <td>46.25</td>\n",
              "      <td>0.81</td>\n",
              "      <td>12.87</td>\n",
              "      <td>99.02</td>\n",
              "      <td>75.32</td>\n",
              "      <td>65.0</td>\n",
              "      <td>56.0</td>\n",
              "      <td>52.0</td>\n",
              "      <td>91.0</td>\n",
              "      <td>87.0</td>\n",
              "      <td>99.0</td>\n",
              "      <td>68.0</td>\n",
              "      <td>74.0</td>\n",
              "      <td>1.0</td>\n",
              "    </tr>\n",
              "    <tr>\n",
              "      <th>17</th>\n",
              "      <td>Manipur</td>\n",
              "      <td>88.21</td>\n",
              "      <td>58.67</td>\n",
              "      <td>44.75</td>\n",
              "      <td>1.72</td>\n",
              "      <td>14.38</td>\n",
              "      <td>43.27</td>\n",
              "      <td>93.15</td>\n",
              "      <td>78.0</td>\n",
              "      <td>65.0</td>\n",
              "      <td>46.0</td>\n",
              "      <td>75.0</td>\n",
              "      <td>80.0</td>\n",
              "      <td>18.0</td>\n",
              "      <td>91.0</td>\n",
              "      <td>65.0</td>\n",
              "      <td>1.0</td>\n",
              "    </tr>\n",
              "    <tr>\n",
              "      <th>19</th>\n",
              "      <td>Meghalaya</td>\n",
              "      <td>68.39</td>\n",
              "      <td>45.33</td>\n",
              "      <td>39.25</td>\n",
              "      <td>2.9</td>\n",
              "      <td>20.52</td>\n",
              "      <td>30.47</td>\n",
              "      <td>86.87</td>\n",
              "      <td>42.0</td>\n",
              "      <td>14.0</td>\n",
              "      <td>22.0</td>\n",
              "      <td>55.0</td>\n",
              "      <td>53.0</td>\n",
              "      <td>0.0</td>\n",
              "      <td>83.0</td>\n",
              "      <td>38.0</td>\n",
              "      <td>1.0</td>\n",
              "    </tr>\n",
              "    <tr>\n",
              "      <th>21</th>\n",
              "      <td>Mizoram</td>\n",
              "      <td>79.60</td>\n",
              "      <td>48.67</td>\n",
              "      <td>36.75</td>\n",
              "      <td>0.6</td>\n",
              "      <td>21.88</td>\n",
              "      <td>60.40</td>\n",
              "      <td>94.23</td>\n",
              "      <td>63.0</td>\n",
              "      <td>27.0</td>\n",
              "      <td>11.0</td>\n",
              "      <td>94.0</td>\n",
              "      <td>47.0</td>\n",
              "      <td>43.0</td>\n",
              "      <td>93.0</td>\n",
              "      <td>54.0</td>\n",
              "      <td>1.0</td>\n",
              "    </tr>\n",
              "    <tr>\n",
              "      <th>23</th>\n",
              "      <td>Nagaland</td>\n",
              "      <td>56.24</td>\n",
              "      <td>49.67</td>\n",
              "      <td>37.75</td>\n",
              "      <td>0.9</td>\n",
              "      <td>18.23</td>\n",
              "      <td>32.92</td>\n",
              "      <td>95.91</td>\n",
              "      <td>20.0</td>\n",
              "      <td>31.0</td>\n",
              "      <td>15.0</td>\n",
              "      <td>89.0</td>\n",
              "      <td>63.0</td>\n",
              "      <td>4.0</td>\n",
              "      <td>95.0</td>\n",
              "      <td>45.0</td>\n",
              "      <td>1.0</td>\n",
              "    </tr>\n",
              "    <tr>\n",
              "      <th>24</th>\n",
              "      <td>Odisha</td>\n",
              "      <td>82.24</td>\n",
              "      <td>54.00</td>\n",
              "      <td>45.50</td>\n",
              "      <td>6.1</td>\n",
              "      <td>29.56</td>\n",
              "      <td>81.07</td>\n",
              "      <td>80.70</td>\n",
              "      <td>67.0</td>\n",
              "      <td>47.0</td>\n",
              "      <td>49.0</td>\n",
              "      <td>0.0</td>\n",
              "      <td>12.0</td>\n",
              "      <td>73.0</td>\n",
              "      <td>75.0</td>\n",
              "      <td>46.0</td>\n",
              "      <td>0.0</td>\n",
              "    </tr>\n",
              "    <tr>\n",
              "      <th>25</th>\n",
              "      <td>Punjab</td>\n",
              "      <td>78.56</td>\n",
              "      <td>48.00</td>\n",
              "      <td>39.25</td>\n",
              "      <td>2.28</td>\n",
              "      <td>8.86</td>\n",
              "      <td>91.38</td>\n",
              "      <td>86.01</td>\n",
              "      <td>61.0</td>\n",
              "      <td>24.0</td>\n",
              "      <td>22.0</td>\n",
              "      <td>66.0</td>\n",
              "      <td>100.0</td>\n",
              "      <td>88.0</td>\n",
              "      <td>82.0</td>\n",
              "      <td>63.0</td>\n",
              "      <td>1.0</td>\n",
              "    </tr>\n",
              "    <tr>\n",
              "      <th>26</th>\n",
              "      <td>Rajasthan</td>\n",
              "      <td>72.49</td>\n",
              "      <td>68.00</td>\n",
              "      <td>62.25</td>\n",
              "      <td>5.02</td>\n",
              "      <td>13.48</td>\n",
              "      <td>94.01</td>\n",
              "      <td>74.35</td>\n",
              "      <td>50.0</td>\n",
              "      <td>100.0</td>\n",
              "      <td>100.0</td>\n",
              "      <td>19.0</td>\n",
              "      <td>84.0</td>\n",
              "      <td>91.0</td>\n",
              "      <td>67.0</td>\n",
              "      <td>73.0</td>\n",
              "      <td>0.0</td>\n",
              "    </tr>\n",
              "    <tr>\n",
              "      <th>27</th>\n",
              "      <td>Sikkim</td>\n",
              "      <td>45.47</td>\n",
              "      <td>45.67</td>\n",
              "      <td>39.25</td>\n",
              "      <td>0.58</td>\n",
              "      <td>15.89</td>\n",
              "      <td>48.40</td>\n",
              "      <td>99.03</td>\n",
              "      <td>0.0</td>\n",
              "      <td>15.0</td>\n",
              "      <td>22.0</td>\n",
              "      <td>95.0</td>\n",
              "      <td>74.0</td>\n",
              "      <td>26.0</td>\n",
              "      <td>99.0</td>\n",
              "      <td>47.0</td>\n",
              "      <td>1.0</td>\n",
              "    </tr>\n",
              "    <tr>\n",
              "      <th>28</th>\n",
              "      <td>Tamil Nadu</td>\n",
              "      <td>92.86</td>\n",
              "      <td>53.00</td>\n",
              "      <td>40.25</td>\n",
              "      <td>0.66</td>\n",
              "      <td>8.1</td>\n",
              "      <td>97.58</td>\n",
              "      <td>82.89</td>\n",
              "      <td>87.0</td>\n",
              "      <td>43.0</td>\n",
              "      <td>26.0</td>\n",
              "      <td>93.0</td>\n",
              "      <td>100.0</td>\n",
              "      <td>97.0</td>\n",
              "      <td>78.0</td>\n",
              "      <td>75.0</td>\n",
              "      <td>0.0</td>\n",
              "    </tr>\n",
              "    <tr>\n",
              "      <th>29</th>\n",
              "      <td>Telangana</td>\n",
              "      <td>82.54</td>\n",
              "      <td>55.67</td>\n",
              "      <td>42.00</td>\n",
              "      <td>Null</td>\n",
              "      <td>15.53</td>\n",
              "      <td>97.64</td>\n",
              "      <td>77.81</td>\n",
              "      <td>68.0</td>\n",
              "      <td>53.0</td>\n",
              "      <td>34.0</td>\n",
              "      <td>0.0</td>\n",
              "      <td>75.0</td>\n",
              "      <td>97.0</td>\n",
              "      <td>72.0</td>\n",
              "      <td>66.0</td>\n",
              "      <td>1.0</td>\n",
              "    </tr>\n",
              "    <tr>\n",
              "      <th>30</th>\n",
              "      <td>Tripura</td>\n",
              "      <td>94.72</td>\n",
              "      <td>55.00</td>\n",
              "      <td>42.75</td>\n",
              "      <td>0.79</td>\n",
              "      <td>28.42</td>\n",
              "      <td>40.12</td>\n",
              "      <td>95.08</td>\n",
              "      <td>90.0</td>\n",
              "      <td>51.0</td>\n",
              "      <td>37.0</td>\n",
              "      <td>91.0</td>\n",
              "      <td>17.0</td>\n",
              "      <td>14.0</td>\n",
              "      <td>94.0</td>\n",
              "      <td>56.0</td>\n",
              "      <td>0.0</td>\n",
              "    </tr>\n",
              "    <tr>\n",
              "      <th>31</th>\n",
              "      <td>Uttar Pradesh</td>\n",
              "      <td>68.71</td>\n",
              "      <td>50.67</td>\n",
              "      <td>44.25</td>\n",
              "      <td>3.9</td>\n",
              "      <td>10.22</td>\n",
              "      <td>77.51</td>\n",
              "      <td>55.96</td>\n",
              "      <td>43.0</td>\n",
              "      <td>34.0</td>\n",
              "      <td>44.0</td>\n",
              "      <td>38.0</td>\n",
              "      <td>99.0</td>\n",
              "      <td>68.0</td>\n",
              "      <td>44.0</td>\n",
              "      <td>53.0</td>\n",
              "      <td>1.0</td>\n",
              "    </tr>\n",
              "    <tr>\n",
              "      <th>32</th>\n",
              "      <td>Uttarakhand</td>\n",
              "      <td>77.20</td>\n",
              "      <td>61.33</td>\n",
              "      <td>48.50</td>\n",
              "      <td>5.07</td>\n",
              "      <td>10.4</td>\n",
              "      <td>87.11</td>\n",
              "      <td>87.94</td>\n",
              "      <td>58.0</td>\n",
              "      <td>75.0</td>\n",
              "      <td>62.0</td>\n",
              "      <td>18.0</td>\n",
              "      <td>98.0</td>\n",
              "      <td>81.0</td>\n",
              "      <td>85.0</td>\n",
              "      <td>68.0</td>\n",
              "      <td>0.0</td>\n",
              "    </tr>\n",
              "    <tr>\n",
              "      <th>33</th>\n",
              "      <td>West Bengal</td>\n",
              "      <td>72.28</td>\n",
              "      <td>52.67</td>\n",
              "      <td>43.25</td>\n",
              "      <td>2.45</td>\n",
              "      <td>17.8</td>\n",
              "      <td>52.53</td>\n",
              "      <td>74.64</td>\n",
              "      <td>49.0</td>\n",
              "      <td>42.0</td>\n",
              "      <td>39.0</td>\n",
              "      <td>63.0</td>\n",
              "      <td>65.0</td>\n",
              "      <td>32.0</td>\n",
              "      <td>68.0</td>\n",
              "      <td>51.0</td>\n",
              "      <td>1.0</td>\n",
              "    </tr>\n",
              "    <tr>\n",
              "      <th>34</th>\n",
              "      <td>Andaman &amp; Nicobar Islands</td>\n",
              "      <td>77.49</td>\n",
              "      <td>52.00</td>\n",
              "      <td>39.00</td>\n",
              "      <td>2.12</td>\n",
              "      <td>9.87</td>\n",
              "      <td>98.86</td>\n",
              "      <td>99.51</td>\n",
              "      <td>59.0</td>\n",
              "      <td>39.0</td>\n",
              "      <td>21.0</td>\n",
              "      <td>68.0</td>\n",
              "      <td>100.0</td>\n",
              "      <td>98.0</td>\n",
              "      <td>99.0</td>\n",
              "      <td>69.0</td>\n",
              "      <td>0.0</td>\n",
              "    </tr>\n",
              "    <tr>\n",
              "      <th>35</th>\n",
              "      <td>Chandigarh</td>\n",
              "      <td>78.74</td>\n",
              "      <td>67.00</td>\n",
              "      <td>53.00</td>\n",
              "      <td>0.44</td>\n",
              "      <td>Null</td>\n",
              "      <td>98.88</td>\n",
              "      <td>82.00</td>\n",
              "      <td>61.0</td>\n",
              "      <td>97.0</td>\n",
              "      <td>82.0</td>\n",
              "      <td>97.0</td>\n",
              "      <td>0.0</td>\n",
              "      <td>98.0</td>\n",
              "      <td>77.0</td>\n",
              "      <td>85.0</td>\n",
              "      <td>1.0</td>\n",
              "    </tr>\n",
              "    <tr>\n",
              "      <th>36</th>\n",
              "      <td>Dadra &amp; Nagar Haveli</td>\n",
              "      <td>76.79</td>\n",
              "      <td>62.00</td>\n",
              "      <td>52.00</td>\n",
              "      <td>1.49</td>\n",
              "      <td>16.77</td>\n",
              "      <td>92.84</td>\n",
              "      <td>88.16</td>\n",
              "      <td>57.0</td>\n",
              "      <td>78.0</td>\n",
              "      <td>77.0</td>\n",
              "      <td>79.0</td>\n",
              "      <td>70.0</td>\n",
              "      <td>90.0</td>\n",
              "      <td>85.0</td>\n",
              "      <td>77.0</td>\n",
              "      <td>0.0</td>\n",
              "    </tr>\n",
              "    <tr>\n",
              "      <th>37</th>\n",
              "      <td>Daman and Diu</td>\n",
              "      <td>67.05</td>\n",
              "      <td>46.67</td>\n",
              "      <td>38.50</td>\n",
              "      <td>1.28</td>\n",
              "      <td>32.27</td>\n",
              "      <td>92.47</td>\n",
              "      <td>79.17</td>\n",
              "      <td>40.0</td>\n",
              "      <td>19.0</td>\n",
              "      <td>19.0</td>\n",
              "      <td>83.0</td>\n",
              "      <td>0.0</td>\n",
              "      <td>89.0</td>\n",
              "      <td>73.0</td>\n",
              "      <td>46.0</td>\n",
              "      <td>1.0</td>\n",
              "    </tr>\n",
              "    <tr>\n",
              "      <th>38</th>\n",
              "      <td>Delhi</td>\n",
              "      <td>92.95</td>\n",
              "      <td>48.33</td>\n",
              "      <td>39.25</td>\n",
              "      <td>3.15</td>\n",
              "      <td>11.81</td>\n",
              "      <td>100.00</td>\n",
              "      <td>46.43</td>\n",
              "      <td>87.0</td>\n",
              "      <td>25.0</td>\n",
              "      <td>22.0</td>\n",
              "      <td>51.0</td>\n",
              "      <td>92.0</td>\n",
              "      <td>100.0</td>\n",
              "      <td>32.0</td>\n",
              "      <td>58.0</td>\n",
              "      <td>0.0</td>\n",
              "    </tr>\n",
              "    <tr>\n",
              "      <th>39</th>\n",
              "      <td>Lakshadweep</td>\n",
              "      <td>81.94</td>\n",
              "      <td>47.33</td>\n",
              "      <td>36.00</td>\n",
              "      <td>3.67</td>\n",
              "      <td>6.76</td>\n",
              "      <td>96.51</td>\n",
              "      <td>100.00</td>\n",
              "      <td>67.0</td>\n",
              "      <td>22.0</td>\n",
              "      <td>8.0</td>\n",
              "      <td>42.0</td>\n",
              "      <td>100.0</td>\n",
              "      <td>95.0</td>\n",
              "      <td>100.0</td>\n",
              "      <td>62.0</td>\n",
              "      <td>1.0</td>\n",
              "    </tr>\n",
              "    <tr>\n",
              "      <th>40</th>\n",
              "      <td>Puducherry</td>\n",
              "      <td>79.52</td>\n",
              "      <td>51.33</td>\n",
              "      <td>34.25</td>\n",
              "      <td>0.18</td>\n",
              "      <td>12.19</td>\n",
              "      <td>99.88</td>\n",
              "      <td>95.17</td>\n",
              "      <td>62.0</td>\n",
              "      <td>37.0</td>\n",
              "      <td>0.0</td>\n",
              "      <td>100.0</td>\n",
              "      <td>90.0</td>\n",
              "      <td>100.0</td>\n",
              "      <td>94.0</td>\n",
              "      <td>69.0</td>\n",
              "      <td>0.0</td>\n",
              "    </tr>\n",
              "  </tbody>\n",
              "</table>\n",
              "</div>\n",
              "      <button class=\"colab-df-convert\" onclick=\"convertToInteractive('df-732676e0-0a10-4a03-8884-51d9ab9d0327')\"\n",
              "              title=\"Convert this dataframe to an interactive table.\"\n",
              "              style=\"display:none;\">\n",
              "        \n",
              "  <svg xmlns=\"http://www.w3.org/2000/svg\" height=\"24px\"viewBox=\"0 0 24 24\"\n",
              "       width=\"24px\">\n",
              "    <path d=\"M0 0h24v24H0V0z\" fill=\"none\"/>\n",
              "    <path d=\"M18.56 5.44l.94 2.06.94-2.06 2.06-.94-2.06-.94-.94-2.06-.94 2.06-2.06.94zm-11 1L8.5 8.5l.94-2.06 2.06-.94-2.06-.94L8.5 2.5l-.94 2.06-2.06.94zm10 10l.94 2.06.94-2.06 2.06-.94-2.06-.94-.94-2.06-.94 2.06-2.06.94z\"/><path d=\"M17.41 7.96l-1.37-1.37c-.4-.4-.92-.59-1.43-.59-.52 0-1.04.2-1.43.59L10.3 9.45l-7.72 7.72c-.78.78-.78 2.05 0 2.83L4 21.41c.39.39.9.59 1.41.59.51 0 1.02-.2 1.41-.59l7.78-7.78 2.81-2.81c.8-.78.8-2.07 0-2.86zM5.41 20L4 18.59l7.72-7.72 1.47 1.35L5.41 20z\"/>\n",
              "  </svg>\n",
              "      </button>\n",
              "      \n",
              "  <style>\n",
              "    .colab-df-container {\n",
              "      display:flex;\n",
              "      flex-wrap:wrap;\n",
              "      gap: 12px;\n",
              "    }\n",
              "\n",
              "    .colab-df-convert {\n",
              "      background-color: #E8F0FE;\n",
              "      border: none;\n",
              "      border-radius: 50%;\n",
              "      cursor: pointer;\n",
              "      display: none;\n",
              "      fill: #1967D2;\n",
              "      height: 32px;\n",
              "      padding: 0 0 0 0;\n",
              "      width: 32px;\n",
              "    }\n",
              "\n",
              "    .colab-df-convert:hover {\n",
              "      background-color: #E2EBFA;\n",
              "      box-shadow: 0px 1px 2px rgba(60, 64, 67, 0.3), 0px 1px 3px 1px rgba(60, 64, 67, 0.15);\n",
              "      fill: #174EA6;\n",
              "    }\n",
              "\n",
              "    [theme=dark] .colab-df-convert {\n",
              "      background-color: #3B4455;\n",
              "      fill: #D2E3FC;\n",
              "    }\n",
              "\n",
              "    [theme=dark] .colab-df-convert:hover {\n",
              "      background-color: #434B5C;\n",
              "      box-shadow: 0px 1px 3px 1px rgba(0, 0, 0, 0.15);\n",
              "      filter: drop-shadow(0px 1px 2px rgba(0, 0, 0, 0.3));\n",
              "      fill: #FFFFFF;\n",
              "    }\n",
              "  </style>\n",
              "\n",
              "      <script>\n",
              "        const buttonEl =\n",
              "          document.querySelector('#df-732676e0-0a10-4a03-8884-51d9ab9d0327 button.colab-df-convert');\n",
              "        buttonEl.style.display =\n",
              "          google.colab.kernel.accessAllowed ? 'block' : 'none';\n",
              "\n",
              "        async function convertToInteractive(key) {\n",
              "          const element = document.querySelector('#df-732676e0-0a10-4a03-8884-51d9ab9d0327');\n",
              "          const dataTable =\n",
              "            await google.colab.kernel.invokeFunction('convertToInteractive',\n",
              "                                                     [key], {});\n",
              "          if (!dataTable) return;\n",
              "\n",
              "          const docLinkHtml = 'Like what you see? Visit the ' +\n",
              "            '<a target=\"_blank\" href=https://colab.research.google.com/notebooks/data_table.ipynb>data table notebook</a>'\n",
              "            + ' to learn more about interactive tables.';\n",
              "          element.innerHTML = '';\n",
              "          dataTable['output_type'] = 'display_data';\n",
              "          await google.colab.output.renderOutput(dataTable, element);\n",
              "          const docLink = document.createElement('div');\n",
              "          docLink.innerHTML = docLinkHtml;\n",
              "          element.appendChild(docLink);\n",
              "        }\n",
              "      </script>\n",
              "    </div>\n",
              "  </div>\n",
              "  "
            ]
          },
          "metadata": {},
          "execution_count": 46
        }
      ]
    },
    {
      "cell_type": "code",
      "source": [
        "data = data.fillna(0) \n",
        "data"
      ],
      "metadata": {
        "id": "rk0eNurG4eMZ"
      },
      "id": "rk0eNurG4eMZ",
      "execution_count": null,
      "outputs": []
    },
    {
      "cell_type": "code",
      "source": [
        "intra_class_data = data[data.Class==0]\n",
        "inter_class_data = data[data.Class==1]"
      ],
      "metadata": {
        "id": "zi2BX98B0BdQ"
      },
      "id": "zi2BX98B0BdQ",
      "execution_count": null,
      "outputs": []
    },
    {
      "cell_type": "code",
      "execution_count": null,
      "id": "7f006cb5",
      "metadata": {
        "colab": {
          "base_uri": "https://localhost:8080/",
          "height": 207
        },
        "id": "7f006cb5",
        "outputId": "4c9bc598-40c8-40a2-9dca-15f37e34fb47"
      },
      "outputs": [
        {
          "output_type": "execute_result",
          "data": {
            "text/plain": [
              "           a1        a2        a3        a6       a7     a8       a9     a10  \\\n",
              "Class                                                                          \n",
              "0.0    80.940  57.66625  47.21875  85.48125  81.4075  65.00  60.9375  55.125   \n",
              "1.0    74.129  52.30100  42.47500  72.42300  80.9590  52.65  40.4000  35.950   \n",
              "\n",
              "           a11    a12     a13      a14    score  \n",
              "Class                                            \n",
              "0.0    64.6875  66.75  79.125  76.1875  66.8125  \n",
              "1.0    61.9500  61.85  60.400  75.7000  57.0500  "
            ],
            "text/html": [
              "\n",
              "  <div id=\"df-2015cd21-60f7-4fbd-9f64-365fc853515c\">\n",
              "    <div class=\"colab-df-container\">\n",
              "      <div>\n",
              "<style scoped>\n",
              "    .dataframe tbody tr th:only-of-type {\n",
              "        vertical-align: middle;\n",
              "    }\n",
              "\n",
              "    .dataframe tbody tr th {\n",
              "        vertical-align: top;\n",
              "    }\n",
              "\n",
              "    .dataframe thead th {\n",
              "        text-align: right;\n",
              "    }\n",
              "</style>\n",
              "<table border=\"1\" class=\"dataframe\">\n",
              "  <thead>\n",
              "    <tr style=\"text-align: right;\">\n",
              "      <th></th>\n",
              "      <th>a1</th>\n",
              "      <th>a2</th>\n",
              "      <th>a3</th>\n",
              "      <th>a6</th>\n",
              "      <th>a7</th>\n",
              "      <th>a8</th>\n",
              "      <th>a9</th>\n",
              "      <th>a10</th>\n",
              "      <th>a11</th>\n",
              "      <th>a12</th>\n",
              "      <th>a13</th>\n",
              "      <th>a14</th>\n",
              "      <th>score</th>\n",
              "    </tr>\n",
              "    <tr>\n",
              "      <th>Class</th>\n",
              "      <th></th>\n",
              "      <th></th>\n",
              "      <th></th>\n",
              "      <th></th>\n",
              "      <th></th>\n",
              "      <th></th>\n",
              "      <th></th>\n",
              "      <th></th>\n",
              "      <th></th>\n",
              "      <th></th>\n",
              "      <th></th>\n",
              "      <th></th>\n",
              "      <th></th>\n",
              "    </tr>\n",
              "  </thead>\n",
              "  <tbody>\n",
              "    <tr>\n",
              "      <th>0.0</th>\n",
              "      <td>80.940</td>\n",
              "      <td>57.66625</td>\n",
              "      <td>47.21875</td>\n",
              "      <td>85.48125</td>\n",
              "      <td>81.4075</td>\n",
              "      <td>65.00</td>\n",
              "      <td>60.9375</td>\n",
              "      <td>55.125</td>\n",
              "      <td>64.6875</td>\n",
              "      <td>66.75</td>\n",
              "      <td>79.125</td>\n",
              "      <td>76.1875</td>\n",
              "      <td>66.8125</td>\n",
              "    </tr>\n",
              "    <tr>\n",
              "      <th>1.0</th>\n",
              "      <td>74.129</td>\n",
              "      <td>52.30100</td>\n",
              "      <td>42.47500</td>\n",
              "      <td>72.42300</td>\n",
              "      <td>80.9590</td>\n",
              "      <td>52.65</td>\n",
              "      <td>40.4000</td>\n",
              "      <td>35.950</td>\n",
              "      <td>61.9500</td>\n",
              "      <td>61.85</td>\n",
              "      <td>60.400</td>\n",
              "      <td>75.7000</td>\n",
              "      <td>57.0500</td>\n",
              "    </tr>\n",
              "  </tbody>\n",
              "</table>\n",
              "</div>\n",
              "      <button class=\"colab-df-convert\" onclick=\"convertToInteractive('df-2015cd21-60f7-4fbd-9f64-365fc853515c')\"\n",
              "              title=\"Convert this dataframe to an interactive table.\"\n",
              "              style=\"display:none;\">\n",
              "        \n",
              "  <svg xmlns=\"http://www.w3.org/2000/svg\" height=\"24px\"viewBox=\"0 0 24 24\"\n",
              "       width=\"24px\">\n",
              "    <path d=\"M0 0h24v24H0V0z\" fill=\"none\"/>\n",
              "    <path d=\"M18.56 5.44l.94 2.06.94-2.06 2.06-.94-2.06-.94-.94-2.06-.94 2.06-2.06.94zm-11 1L8.5 8.5l.94-2.06 2.06-.94-2.06-.94L8.5 2.5l-.94 2.06-2.06.94zm10 10l.94 2.06.94-2.06 2.06-.94-2.06-.94-.94-2.06-.94 2.06-2.06.94z\"/><path d=\"M17.41 7.96l-1.37-1.37c-.4-.4-.92-.59-1.43-.59-.52 0-1.04.2-1.43.59L10.3 9.45l-7.72 7.72c-.78.78-.78 2.05 0 2.83L4 21.41c.39.39.9.59 1.41.59.51 0 1.02-.2 1.41-.59l7.78-7.78 2.81-2.81c.8-.78.8-2.07 0-2.86zM5.41 20L4 18.59l7.72-7.72 1.47 1.35L5.41 20z\"/>\n",
              "  </svg>\n",
              "      </button>\n",
              "      \n",
              "  <style>\n",
              "    .colab-df-container {\n",
              "      display:flex;\n",
              "      flex-wrap:wrap;\n",
              "      gap: 12px;\n",
              "    }\n",
              "\n",
              "    .colab-df-convert {\n",
              "      background-color: #E8F0FE;\n",
              "      border: none;\n",
              "      border-radius: 50%;\n",
              "      cursor: pointer;\n",
              "      display: none;\n",
              "      fill: #1967D2;\n",
              "      height: 32px;\n",
              "      padding: 0 0 0 0;\n",
              "      width: 32px;\n",
              "    }\n",
              "\n",
              "    .colab-df-convert:hover {\n",
              "      background-color: #E2EBFA;\n",
              "      box-shadow: 0px 1px 2px rgba(60, 64, 67, 0.3), 0px 1px 3px 1px rgba(60, 64, 67, 0.15);\n",
              "      fill: #174EA6;\n",
              "    }\n",
              "\n",
              "    [theme=dark] .colab-df-convert {\n",
              "      background-color: #3B4455;\n",
              "      fill: #D2E3FC;\n",
              "    }\n",
              "\n",
              "    [theme=dark] .colab-df-convert:hover {\n",
              "      background-color: #434B5C;\n",
              "      box-shadow: 0px 1px 3px 1px rgba(0, 0, 0, 0.15);\n",
              "      filter: drop-shadow(0px 1px 2px rgba(0, 0, 0, 0.3));\n",
              "      fill: #FFFFFF;\n",
              "    }\n",
              "  </style>\n",
              "\n",
              "      <script>\n",
              "        const buttonEl =\n",
              "          document.querySelector('#df-2015cd21-60f7-4fbd-9f64-365fc853515c button.colab-df-convert');\n",
              "        buttonEl.style.display =\n",
              "          google.colab.kernel.accessAllowed ? 'block' : 'none';\n",
              "\n",
              "        async function convertToInteractive(key) {\n",
              "          const element = document.querySelector('#df-2015cd21-60f7-4fbd-9f64-365fc853515c');\n",
              "          const dataTable =\n",
              "            await google.colab.kernel.invokeFunction('convertToInteractive',\n",
              "                                                     [key], {});\n",
              "          if (!dataTable) return;\n",
              "\n",
              "          const docLinkHtml = 'Like what you see? Visit the ' +\n",
              "            '<a target=\"_blank\" href=https://colab.research.google.com/notebooks/data_table.ipynb>data table notebook</a>'\n",
              "            + ' to learn more about interactive tables.';\n",
              "          element.innerHTML = '';\n",
              "          dataTable['output_type'] = 'display_data';\n",
              "          await google.colab.output.renderOutput(dataTable, element);\n",
              "          const docLink = document.createElement('div');\n",
              "          docLink.innerHTML = docLinkHtml;\n",
              "          element.appendChild(docLink);\n",
              "        }\n",
              "      </script>\n",
              "    </div>\n",
              "  </div>\n",
              "  "
            ]
          },
          "metadata": {},
          "execution_count": 49
        }
      ],
      "source": [
        "mean_data = data.groupby('Class').mean()\n",
        "data.groupby('Class').mean()"
      ]
    },
    {
      "cell_type": "code",
      "execution_count": null,
      "id": "98981199",
      "metadata": {
        "colab": {
          "base_uri": "https://localhost:8080/",
          "height": 207
        },
        "id": "98981199",
        "outputId": "20c01c15-0e3b-42ec-8296-fc6c6043998d"
      },
      "outputs": [
        {
          "output_type": "execute_result",
          "data": {
            "text/plain": [
              "              a1        a2        a3         a6         a7         a8  \\\n",
              "Class                                                                   \n",
              "0.0     9.579926  5.906093  7.191937  19.973428  15.389138  17.576499   \n",
              "1.0    11.330580  6.823606  5.215047  24.562149  17.844915  20.637919   \n",
              "\n",
              "              a9        a10        a11        a12        a13        a14  \\\n",
              "Class                                                                     \n",
              "0.0    22.602268  28.556085  31.514481  32.829864  28.712076  19.647625   \n",
              "1.0    25.666689  22.693553  30.368743  30.706205  35.294848  22.831419   \n",
              "\n",
              "           score  \n",
              "Class             \n",
              "0.0    11.611596  \n",
              "1.0    13.371120  "
            ],
            "text/html": [
              "\n",
              "  <div id=\"df-e66397f7-dad0-45b2-9123-e49331327e39\">\n",
              "    <div class=\"colab-df-container\">\n",
              "      <div>\n",
              "<style scoped>\n",
              "    .dataframe tbody tr th:only-of-type {\n",
              "        vertical-align: middle;\n",
              "    }\n",
              "\n",
              "    .dataframe tbody tr th {\n",
              "        vertical-align: top;\n",
              "    }\n",
              "\n",
              "    .dataframe thead th {\n",
              "        text-align: right;\n",
              "    }\n",
              "</style>\n",
              "<table border=\"1\" class=\"dataframe\">\n",
              "  <thead>\n",
              "    <tr style=\"text-align: right;\">\n",
              "      <th></th>\n",
              "      <th>a1</th>\n",
              "      <th>a2</th>\n",
              "      <th>a3</th>\n",
              "      <th>a6</th>\n",
              "      <th>a7</th>\n",
              "      <th>a8</th>\n",
              "      <th>a9</th>\n",
              "      <th>a10</th>\n",
              "      <th>a11</th>\n",
              "      <th>a12</th>\n",
              "      <th>a13</th>\n",
              "      <th>a14</th>\n",
              "      <th>score</th>\n",
              "    </tr>\n",
              "    <tr>\n",
              "      <th>Class</th>\n",
              "      <th></th>\n",
              "      <th></th>\n",
              "      <th></th>\n",
              "      <th></th>\n",
              "      <th></th>\n",
              "      <th></th>\n",
              "      <th></th>\n",
              "      <th></th>\n",
              "      <th></th>\n",
              "      <th></th>\n",
              "      <th></th>\n",
              "      <th></th>\n",
              "      <th></th>\n",
              "    </tr>\n",
              "  </thead>\n",
              "  <tbody>\n",
              "    <tr>\n",
              "      <th>0.0</th>\n",
              "      <td>9.579926</td>\n",
              "      <td>5.906093</td>\n",
              "      <td>7.191937</td>\n",
              "      <td>19.973428</td>\n",
              "      <td>15.389138</td>\n",
              "      <td>17.576499</td>\n",
              "      <td>22.602268</td>\n",
              "      <td>28.556085</td>\n",
              "      <td>31.514481</td>\n",
              "      <td>32.829864</td>\n",
              "      <td>28.712076</td>\n",
              "      <td>19.647625</td>\n",
              "      <td>11.611596</td>\n",
              "    </tr>\n",
              "    <tr>\n",
              "      <th>1.0</th>\n",
              "      <td>11.330580</td>\n",
              "      <td>6.823606</td>\n",
              "      <td>5.215047</td>\n",
              "      <td>24.562149</td>\n",
              "      <td>17.844915</td>\n",
              "      <td>20.637919</td>\n",
              "      <td>25.666689</td>\n",
              "      <td>22.693553</td>\n",
              "      <td>30.368743</td>\n",
              "      <td>30.706205</td>\n",
              "      <td>35.294848</td>\n",
              "      <td>22.831419</td>\n",
              "      <td>13.371120</td>\n",
              "    </tr>\n",
              "  </tbody>\n",
              "</table>\n",
              "</div>\n",
              "      <button class=\"colab-df-convert\" onclick=\"convertToInteractive('df-e66397f7-dad0-45b2-9123-e49331327e39')\"\n",
              "              title=\"Convert this dataframe to an interactive table.\"\n",
              "              style=\"display:none;\">\n",
              "        \n",
              "  <svg xmlns=\"http://www.w3.org/2000/svg\" height=\"24px\"viewBox=\"0 0 24 24\"\n",
              "       width=\"24px\">\n",
              "    <path d=\"M0 0h24v24H0V0z\" fill=\"none\"/>\n",
              "    <path d=\"M18.56 5.44l.94 2.06.94-2.06 2.06-.94-2.06-.94-.94-2.06-.94 2.06-2.06.94zm-11 1L8.5 8.5l.94-2.06 2.06-.94-2.06-.94L8.5 2.5l-.94 2.06-2.06.94zm10 10l.94 2.06.94-2.06 2.06-.94-2.06-.94-.94-2.06-.94 2.06-2.06.94z\"/><path d=\"M17.41 7.96l-1.37-1.37c-.4-.4-.92-.59-1.43-.59-.52 0-1.04.2-1.43.59L10.3 9.45l-7.72 7.72c-.78.78-.78 2.05 0 2.83L4 21.41c.39.39.9.59 1.41.59.51 0 1.02-.2 1.41-.59l7.78-7.78 2.81-2.81c.8-.78.8-2.07 0-2.86zM5.41 20L4 18.59l7.72-7.72 1.47 1.35L5.41 20z\"/>\n",
              "  </svg>\n",
              "      </button>\n",
              "      \n",
              "  <style>\n",
              "    .colab-df-container {\n",
              "      display:flex;\n",
              "      flex-wrap:wrap;\n",
              "      gap: 12px;\n",
              "    }\n",
              "\n",
              "    .colab-df-convert {\n",
              "      background-color: #E8F0FE;\n",
              "      border: none;\n",
              "      border-radius: 50%;\n",
              "      cursor: pointer;\n",
              "      display: none;\n",
              "      fill: #1967D2;\n",
              "      height: 32px;\n",
              "      padding: 0 0 0 0;\n",
              "      width: 32px;\n",
              "    }\n",
              "\n",
              "    .colab-df-convert:hover {\n",
              "      background-color: #E2EBFA;\n",
              "      box-shadow: 0px 1px 2px rgba(60, 64, 67, 0.3), 0px 1px 3px 1px rgba(60, 64, 67, 0.15);\n",
              "      fill: #174EA6;\n",
              "    }\n",
              "\n",
              "    [theme=dark] .colab-df-convert {\n",
              "      background-color: #3B4455;\n",
              "      fill: #D2E3FC;\n",
              "    }\n",
              "\n",
              "    [theme=dark] .colab-df-convert:hover {\n",
              "      background-color: #434B5C;\n",
              "      box-shadow: 0px 1px 3px 1px rgba(0, 0, 0, 0.15);\n",
              "      filter: drop-shadow(0px 1px 2px rgba(0, 0, 0, 0.3));\n",
              "      fill: #FFFFFF;\n",
              "    }\n",
              "  </style>\n",
              "\n",
              "      <script>\n",
              "        const buttonEl =\n",
              "          document.querySelector('#df-e66397f7-dad0-45b2-9123-e49331327e39 button.colab-df-convert');\n",
              "        buttonEl.style.display =\n",
              "          google.colab.kernel.accessAllowed ? 'block' : 'none';\n",
              "\n",
              "        async function convertToInteractive(key) {\n",
              "          const element = document.querySelector('#df-e66397f7-dad0-45b2-9123-e49331327e39');\n",
              "          const dataTable =\n",
              "            await google.colab.kernel.invokeFunction('convertToInteractive',\n",
              "                                                     [key], {});\n",
              "          if (!dataTable) return;\n",
              "\n",
              "          const docLinkHtml = 'Like what you see? Visit the ' +\n",
              "            '<a target=\"_blank\" href=https://colab.research.google.com/notebooks/data_table.ipynb>data table notebook</a>'\n",
              "            + ' to learn more about interactive tables.';\n",
              "          element.innerHTML = '';\n",
              "          dataTable['output_type'] = 'display_data';\n",
              "          await google.colab.output.renderOutput(dataTable, element);\n",
              "          const docLink = document.createElement('div');\n",
              "          docLink.innerHTML = docLinkHtml;\n",
              "          element.appendChild(docLink);\n",
              "        }\n",
              "      </script>\n",
              "    </div>\n",
              "  </div>\n",
              "  "
            ]
          },
          "metadata": {},
          "execution_count": 50
        }
      ],
      "source": [
        "std_data = data.groupby('Class').std()\n",
        "data.groupby('Class').std()"
      ]
    },
    {
      "cell_type": "code",
      "source": [
        "print(\"Distance between centroids is:\")\n",
        "np.linalg.norm(mean_data.iloc[[0][0]] - mean_data.iloc[[1][0]])"
      ],
      "metadata": {
        "colab": {
          "base_uri": "https://localhost:8080/"
        },
        "id": "D6954JnBYgOC",
        "outputId": "0d62eda9-102f-4e71-8546-ea6e4ee8309d"
      },
      "id": "D6954JnBYgOC",
      "execution_count": null,
      "outputs": [
        {
          "output_type": "stream",
          "name": "stdout",
          "text": [
            "Distance between centroids is:\n"
          ]
        },
        {
          "output_type": "execute_result",
          "data": {
            "text/plain": [
              "41.08604949295442"
            ]
          },
          "metadata": {},
          "execution_count": 111
        }
      ]
    },
    {
      "cell_type": "code",
      "source": [
        "np.linalg.norm(std_data.iloc[[0][0]] - std_data.iloc[[1][0]])"
      ],
      "metadata": {
        "colab": {
          "base_uri": "https://localhost:8080/"
        },
        "id": "oU12rRxOY1YO",
        "outputId": "e1a7206b-fb67-43e5-83a4-d327d443d724"
      },
      "id": "oU12rRxOY1YO",
      "execution_count": null,
      "outputs": [
        {
          "output_type": "execute_result",
          "data": {
            "text/plain": [
              "12.264671169548611"
            ]
          },
          "metadata": {},
          "execution_count": 112
        }
      ]
    },
    {
      "cell_type": "code",
      "execution_count": null,
      "id": "2a85b27f",
      "metadata": {
        "colab": {
          "base_uri": "https://localhost:8080/"
        },
        "id": "2a85b27f",
        "outputId": "efbfe053-a320-4b78-913c-3d1c608275fd"
      },
      "outputs": [
        {
          "output_type": "execute_result",
          "data": {
            "text/plain": [
              "236.38182266334897"
            ]
          },
          "metadata": {},
          "execution_count": 51
        }
      ],
      "source": [
        "np.linalg.norm(mean_data - std_data)"
      ]
    },
    {
      "cell_type": "code",
      "execution_count": null,
      "id": "d0a80bfa",
      "metadata": {
        "colab": {
          "base_uri": "https://localhost:8080/"
        },
        "id": "d0a80bfa",
        "outputId": "81d03230-db37-414e-cc1f-5c28b957be42"
      },
      "outputs": [
        {
          "output_type": "execute_result",
          "data": {
            "text/plain": [
              "94.72"
            ]
          },
          "metadata": {},
          "execution_count": 53
        }
      ],
      "source": [
        "a1_min = data['a1'].max()\n",
        "data['a1'].max()"
      ]
    },
    {
      "cell_type": "code",
      "execution_count": null,
      "id": "95a7f630",
      "metadata": {
        "colab": {
          "base_uri": "https://localhost:8080/"
        },
        "id": "95a7f630",
        "outputId": "09144437-2a78-4af2-8d21-3d8cc2906485"
      },
      "outputs": [
        {
          "output_type": "execute_result",
          "data": {
            "text/plain": [
              "45.47"
            ]
          },
          "metadata": {},
          "execution_count": 54
        }
      ],
      "source": [
        "v1_min = data['a1'].min()\n",
        "data['a1'].min()"
      ]
    },
    {
      "cell_type": "code",
      "execution_count": null,
      "id": "c92d8dc2",
      "metadata": {
        "colab": {
          "base_uri": "https://localhost:8080/"
        },
        "id": "c92d8dc2",
        "outputId": "9df2ffa6-8bf7-4f14-cee4-d2ec8c952550"
      },
      "outputs": [
        {
          "output_type": "execute_result",
          "data": {
            "text/plain": [
              "(array([ 1,  0,  2,  1,  5,  4, 10,  5,  2,  6]),\n",
              " array([45.47 , 50.395, 55.32 , 60.245, 65.17 , 70.095, 75.02 , 79.945,\n",
              "        84.87 , 89.795, 94.72 ]))"
            ]
          },
          "metadata": {},
          "execution_count": 56
        }
      ],
      "source": [
        "np.histogram(data['a1'])"
      ]
    },
    {
      "cell_type": "code",
      "execution_count": null,
      "id": "57cb3bb8",
      "metadata": {
        "colab": {
          "base_uri": "https://localhost:8080/",
          "height": 336
        },
        "id": "57cb3bb8",
        "outputId": "86e656c6-60cb-4028-f028-570e0afd2799"
      },
      "outputs": [
        {
          "output_type": "execute_result",
          "data": {
            "text/plain": [
              "(array([ 1.,  0.,  2.,  1.,  5.,  4., 10.,  5.,  2.,  6.]),\n",
              " array([45.47 , 50.395, 55.32 , 60.245, 65.17 , 70.095, 75.02 , 79.945,\n",
              "        84.87 , 89.795, 94.72 ]),\n",
              " <a list of 10 Patch objects>)"
            ]
          },
          "metadata": {},
          "execution_count": 60
        },
        {
          "output_type": "display_data",
          "data": {
            "text/plain": [
              "<Figure size 432x288 with 1 Axes>"
            ],
            "image/png": "[encoded data removed]"
          },
          "metadata": {
            "needs_background": "light"
          }
        }
      ],
      "source": [
        "plt.hist(data['a1'], bins=10)"
      ]
    },
    {
      "cell_type": "code",
      "execution_count": null,
      "id": "5064d100",
      "metadata": {
        "id": "5064d100"
      },
      "outputs": [],
      "source": [
        "def minkowski_distance(a, b, p):\n",
        "\treturn sum(abs(e1-e2)**p for e1, e2 in zip(a,b))**(1/p)"
      ]
    },
    {
      "cell_type": "code",
      "execution_count": null,
      "id": "9bb9135d",
      "metadata": {
        "colab": {
          "base_uri": "https://localhost:8080/"
        },
        "id": "9bb9135d",
        "outputId": "0de74543-a759-4ef2-9627-23e6a16e134b"
      },
      "outputs": [
        {
          "output_type": "stream",
          "name": "stdout",
          "text": [
            "812.3399999999999\n"
          ]
        }
      ],
      "source": [
        "dist = minkowski_distance(data['a1'], data['a2'], 1)\n",
        "print(dist)"
      ]
    },
    {
      "cell_type": "code",
      "execution_count": null,
      "id": "1ce2fdd7",
      "metadata": {
        "colab": {
          "base_uri": "https://localhost:8080/"
        },
        "id": "1ce2fdd7",
        "outputId": "d1fface1-105f-4f3d-d2b9-cadd66c7507a"
      },
      "outputs": [
        {
          "output_type": "stream",
          "name": "stdout",
          "text": [
            "152.1947384110239\n"
          ]
        }
      ],
      "source": [
        "dist = minkowski_distance(data['a1'], data['a2'], 2)\n",
        "print(dist)"
      ]
    },
    {
      "cell_type": "code",
      "execution_count": null,
      "id": "7591fb74",
      "metadata": {
        "colab": {
          "base_uri": "https://localhost:8080/"
        },
        "id": "7591fb74",
        "outputId": "ee8eb5fd-e837-40a0-b3d1-3e5c61a5b8c9"
      },
      "outputs": [
        {
          "output_type": "stream",
          "name": "stdout",
          "text": [
            "90.22684471871499\n"
          ]
        }
      ],
      "source": [
        "dist = minkowski_distance(data['a1'], data['a2'], 3)\n",
        "print(dist)"
      ]
    },
    {
      "cell_type": "code",
      "execution_count": null,
      "id": "660fc90a",
      "metadata": {
        "colab": {
          "base_uri": "https://localhost:8080/"
        },
        "id": "660fc90a",
        "outputId": "d416d3a9-020f-4f39-ca26-0a51cb0781e5"
      },
      "outputs": [
        {
          "output_type": "stream",
          "name": "stdout",
          "text": [
            "70.7450926347159\n"
          ]
        }
      ],
      "source": [
        "dist = minkowski_distance(data['a1'], data['a2'], 4)\n",
        "print(dist)"
      ]
    },
    {
      "cell_type": "code",
      "execution_count": null,
      "id": "d4a76c86",
      "metadata": {
        "colab": {
          "base_uri": "https://localhost:8080/"
        },
        "id": "d4a76c86",
        "outputId": "7ff2d6f0-2fbe-4cf1-d46e-3b7381eb4e82"
      },
      "outputs": [
        {
          "output_type": "stream",
          "name": "stdout",
          "text": [
            "61.791821013824936\n"
          ]
        }
      ],
      "source": [
        "dist = minkowski_distance(data['a1'], data['a2'], 5)\n",
        "print(dist)"
      ]
    },
    {
      "cell_type": "code",
      "execution_count": null,
      "id": "afc86bf0",
      "metadata": {
        "colab": {
          "base_uri": "https://localhost:8080/"
        },
        "id": "afc86bf0",
        "outputId": "be2a50d6-7024-4397-b819-f495bffc13a9"
      },
      "outputs": [
        {
          "output_type": "stream",
          "name": "stdout",
          "text": [
            "56.83250525742966\n"
          ]
        }
      ],
      "source": [
        "dist = minkowski_distance(data['a1'], data['a2'], 6)\n",
        "print(dist)"
      ]
    },
    {
      "cell_type": "code",
      "execution_count": null,
      "id": "2436037a",
      "metadata": {
        "colab": {
          "base_uri": "https://localhost:8080/"
        },
        "id": "2436037a",
        "outputId": "1cfe850a-b5e9-44bd-ff25-bd3f04dc91e8"
      },
      "outputs": [
        {
          "output_type": "stream",
          "name": "stdout",
          "text": [
            "53.75940438331786\n"
          ]
        }
      ],
      "source": [
        "dist = minkowski_distance(data['a1'], data['a2'], 7)\n",
        "print(dist)"
      ]
    },
    {
      "cell_type": "code",
      "execution_count": null,
      "id": "ad99d8f4",
      "metadata": {
        "colab": {
          "base_uri": "https://localhost:8080/"
        },
        "id": "ad99d8f4",
        "outputId": "bff978b8-b144-44d6-af7b-184890aa9a8e"
      },
      "outputs": [
        {
          "output_type": "stream",
          "name": "stdout",
          "text": [
            "51.70578415424922\n"
          ]
        }
      ],
      "source": [
        "dist = minkowski_distance(data['a1'], data['a2'], 8)\n",
        "print(dist)"
      ]
    },
    {
      "cell_type": "code",
      "execution_count": null,
      "id": "25238640",
      "metadata": {
        "colab": {
          "base_uri": "https://localhost:8080/"
        },
        "id": "25238640",
        "outputId": "3fd00a86-d31f-477a-96d3-e637644f0974"
      },
      "outputs": [
        {
          "output_type": "stream",
          "name": "stdout",
          "text": [
            "50.256660770274976\n"
          ]
        }
      ],
      "source": [
        "dist = minkowski_distance(data['a1'], data['a2'], 9)\n",
        "print(dist)"
      ]
    },
    {
      "cell_type": "code",
      "execution_count": null,
      "id": "cc6a592e",
      "metadata": {
        "colab": {
          "base_uri": "https://localhost:8080/"
        },
        "id": "cc6a592e",
        "outputId": "4f79ad83-a760-4f0a-eccc-1d012d2c2cc3"
      },
      "outputs": [
        {
          "output_type": "stream",
          "name": "stdout",
          "text": [
            "49.19132373014642\n"
          ]
        }
      ],
      "source": [
        "dist = minkowski_distance(data['a1'], data['a2'], 10)\n",
        "print(dist)"
      ]
    },
    {
      "cell_type": "code",
      "execution_count": null,
      "id": "58c8213c",
      "metadata": {
        "colab": {
          "base_uri": "https://localhost:8080/"
        },
        "id": "58c8213c",
        "outputId": "3961504c-1251-42a0-a207-9fbfd509c2c2"
      },
      "outputs": [
        {
          "output_type": "execute_result",
          "data": {
            "text/plain": [
              "(16, 17)"
            ]
          },
          "metadata": {},
          "execution_count": 73
        }
      ],
      "source": [
        "intra_class_data.shape"
      ]
    },
    {
      "cell_type": "code",
      "execution_count": null,
      "id": "34332397",
      "metadata": {
        "colab": {
          "base_uri": "https://localhost:8080/"
        },
        "id": "34332397",
        "outputId": "1140100b-9aa0-42b5-9928-2f637888d55f"
      },
      "outputs": [
        {
          "output_type": "execute_result",
          "data": {
            "text/plain": [
              "(20, 17)"
            ]
          },
          "metadata": {},
          "execution_count": 74
        }
      ],
      "source": [
        "inter_class_data.shape"
      ]
    },
    {
      "cell_type": "code",
      "execution_count": null,
      "id": "3dfb7da8",
      "metadata": {
        "id": "3dfb7da8"
      },
      "outputs": [],
      "source": [
        "x_set = intra_class_data.sample()"
      ]
    },
    {
      "cell_type": "code",
      "execution_count": null,
      "id": "23de12a9",
      "metadata": {
        "id": "23de12a9"
      },
      "outputs": [],
      "source": [
        "new_dataset = pd.concat([x_set, inter_class_data], axis=0)"
      ]
    },
    {
      "cell_type": "code",
      "execution_count": null,
      "id": "8806d952",
      "metadata": {
        "colab": {
          "base_uri": "https://localhost:8080/",
          "height": 876
        },
        "id": "8806d952",
        "outputId": "c697bc9b-a195-4d6d-92d7-3e16c2a99b66"
      },
      "outputs": [
        {
          "output_type": "execute_result",
          "data": {
            "text/plain": [
              "                        State     a1     a2     a3    a4     a5     a6  \\\n",
              "34  Andaman & Nicobar Islands  77.49  52.00  39.00  2.12   9.87  98.86   \n",
              "1           Arunachal Pradesh  79.02  41.67  36.75  2.92  17.11  51.07   \n",
              "3                       Bihar  77.04  55.67  47.75  4.95   25.9  53.97   \n",
              "5                         Goa  90.46  49.00  42.25  Null  11.15  97.20   \n",
              "7                     Haryana  74.91  51.00  44.50  1.05  15.89  95.33   \n",
              "9             Jammu & Kashmir  57.22  54.33  38.00  2.04  17.28  56.39   \n",
              "11                  Karnataka  85.54  68.67  54.50  1.49  26.18  95.85   \n",
              "13             Madhya Pradesh  69.74  53.33  45.50  3.78  24.77  77.25   \n",
              "15                 Maharastra  80.92  56.33  46.25  0.81  12.87  99.02   \n",
              "17                    Manipur  88.21  58.67  44.75  1.72  14.38  43.27   \n",
              "19                  Meghalaya  68.39  45.33  39.25   2.9  20.52  30.47   \n",
              "21                    Mizoram  79.60  48.67  36.75   0.6  21.88  60.40   \n",
              "23                   Nagaland  56.24  49.67  37.75   0.9  18.23  32.92   \n",
              "25                     Punjab  78.56  48.00  39.25  2.28   8.86  91.38   \n",
              "27                     Sikkim  45.47  45.67  39.25  0.58  15.89  48.40   \n",
              "29                  Telangana  82.54  55.67  42.00  Null  15.53  97.64   \n",
              "31              Uttar Pradesh  68.71  50.67  44.25   3.9  10.22  77.51   \n",
              "33                West Bengal  72.28  52.67  43.25  2.45   17.8  52.53   \n",
              "35                 Chandigarh  78.74  67.00  53.00  0.44   Null  98.88   \n",
              "37              Daman and Diu  67.05  46.67  38.50  1.28  32.27  92.47   \n",
              "39                Lakshadweep  81.94  47.33  36.00  3.67   6.76  96.51   \n",
              "\n",
              "        a7    a8     a9   a10   a11    a12   a13    a14  score  Class  \n",
              "34   99.51  59.0   39.0  21.0  68.0  100.0  98.0   99.0   69.0    0.0  \n",
              "1    88.87  62.0    0.0  11.0  55.0   68.0  30.0   86.0   44.0    1.0  \n",
              "3    21.75  58.0   53.0  59.0  20.0   29.0  34.0    0.0   36.0    1.0  \n",
              "5    90.29  82.0   28.0  35.0   0.0   95.0  96.0   88.0   71.0    1.0  \n",
              "7    75.02  54.0   36.0  45.0  87.0   74.0  93.0   68.0   65.0    1.0  \n",
              "9    96.07  22.0   48.0  16.0  70.0   67.0  37.0   95.0   51.0    1.0  \n",
              "11   76.05  73.0  100.0  88.0  79.0   27.0  94.0   69.0   76.0    1.0  \n",
              "13   71.03  45.0   44.0  49.0  40.0   34.0  67.0   63.0   49.0    1.0  \n",
              "15   75.32  65.0   56.0  52.0  91.0   87.0  99.0   68.0   74.0    1.0  \n",
              "17   93.15  78.0   65.0  46.0  75.0   80.0  18.0   91.0   65.0    1.0  \n",
              "19   86.87  42.0   14.0  22.0  55.0   53.0   0.0   83.0   38.0    1.0  \n",
              "21   94.23  63.0   27.0  11.0  94.0   47.0  43.0   93.0   54.0    1.0  \n",
              "23   95.91  20.0   31.0  15.0  89.0   63.0   4.0   95.0   45.0    1.0  \n",
              "25   86.01  61.0   24.0  22.0  66.0  100.0  88.0   82.0   63.0    1.0  \n",
              "27   99.03   0.0   15.0  22.0  95.0   74.0  26.0   99.0   47.0    1.0  \n",
              "29   77.81  68.0   53.0  34.0   0.0   75.0  97.0   72.0   66.0    1.0  \n",
              "31   55.96  43.0   34.0  44.0  38.0   99.0  68.0   44.0   53.0    1.0  \n",
              "33   74.64  49.0   42.0  39.0  63.0   65.0  32.0   68.0   51.0    1.0  \n",
              "35   82.00  61.0   97.0  82.0  97.0    0.0  98.0   77.0   85.0    1.0  \n",
              "37   79.17  40.0   19.0  19.0  83.0    0.0  89.0   73.0   46.0    1.0  \n",
              "39  100.00  67.0   22.0   8.0  42.0  100.0  95.0  100.0   62.0    1.0  "
            ],
            "text/html": [
              "\n",
              "  <div id=\"df-ff4f8003-0674-4ea5-8d22-c109b16a5f5d\">\n",
              "    <div class=\"colab-df-container\">\n",
              "      <div>\n",
              "<style scoped>\n",
              "    .dataframe tbody tr th:only-of-type {\n",
              "        vertical-align: middle;\n",
              "    }\n",
              "\n",
              "    .dataframe tbody tr th {\n",
              "        vertical-align: top;\n",
              "    }\n",
              "\n",
              "    .dataframe thead th {\n",
              "        text-align: right;\n",
              "    }\n",
              "</style>\n",
              "<table border=\"1\" class=\"dataframe\">\n",
              "  <thead>\n",
              "    <tr style=\"text-align: right;\">\n",
              "      <th></th>\n",
              "      <th>State</th>\n",
              "      <th>a1</th>\n",
              "      <th>a2</th>\n",
              "      <th>a3</th>\n",
              "      <th>a4</th>\n",
              "      <th>a5</th>\n",
              "      <th>a6</th>\n",
              "      <th>a7</th>\n",
              "      <th>a8</th>\n",
              "      <th>a9</th>\n",
              "      <th>a10</th>\n",
              "      <th>a11</th>\n",
              "      <th>a12</th>\n",
              "      <th>a13</th>\n",
              "      <th>a14</th>\n",
              "      <th>score</th>\n",
              "      <th>Class</th>\n",
              "    </tr>\n",
              "  </thead>\n",
              "  <tbody>\n",
              "    <tr>\n",
              "      <th>34</th>\n",
              "      <td>Andaman &amp; Nicobar Islands</td>\n",
              "      <td>77.49</td>\n",
              "      <td>52.00</td>\n",
              "      <td>39.00</td>\n",
              "      <td>2.12</td>\n",
              "      <td>9.87</td>\n",
              "      <td>98.86</td>\n",
              "      <td>99.51</td>\n",
              "      <td>59.0</td>\n",
              "      <td>39.0</td>\n",
              "      <td>21.0</td>\n",
              "      <td>68.0</td>\n",
              "      <td>100.0</td>\n",
              "      <td>98.0</td>\n",
              "      <td>99.0</td>\n",
              "      <td>69.0</td>\n",
              "      <td>0.0</td>\n",
              "    </tr>\n",
              "    <tr>\n",
              "      <th>1</th>\n",
              "      <td>Arunachal Pradesh</td>\n",
              "      <td>79.02</td>\n",
              "      <td>41.67</td>\n",
              "      <td>36.75</td>\n",
              "      <td>2.92</td>\n",
              "      <td>17.11</td>\n",
              "      <td>51.07</td>\n",
              "      <td>88.87</td>\n",
              "      <td>62.0</td>\n",
              "      <td>0.0</td>\n",
              "      <td>11.0</td>\n",
              "      <td>55.0</td>\n",
              "      <td>68.0</td>\n",
              "      <td>30.0</td>\n",
              "      <td>86.0</td>\n",
              "      <td>44.0</td>\n",
              "      <td>1.0</td>\n",
              "    </tr>\n",
              "    <tr>\n",
              "      <th>3</th>\n",
              "      <td>Bihar</td>\n",
              "      <td>77.04</td>\n",
              "      <td>55.67</td>\n",
              "      <td>47.75</td>\n",
              "      <td>4.95</td>\n",
              "      <td>25.9</td>\n",
              "      <td>53.97</td>\n",
              "      <td>21.75</td>\n",
              "      <td>58.0</td>\n",
              "      <td>53.0</td>\n",
              "      <td>59.0</td>\n",
              "      <td>20.0</td>\n",
              "      <td>29.0</td>\n",
              "      <td>34.0</td>\n",
              "      <td>0.0</td>\n",
              "      <td>36.0</td>\n",
              "      <td>1.0</td>\n",
              "    </tr>\n",
              "    <tr>\n",
              "      <th>5</th>\n",
              "      <td>Goa</td>\n",
              "      <td>90.46</td>\n",
              "      <td>49.00</td>\n",
              "      <td>42.25</td>\n",
              "      <td>Null</td>\n",
              "      <td>11.15</td>\n",
              "      <td>97.20</td>\n",
              "      <td>90.29</td>\n",
              "      <td>82.0</td>\n",
              "      <td>28.0</td>\n",
              "      <td>35.0</td>\n",
              "      <td>0.0</td>\n",
              "      <td>95.0</td>\n",
              "      <td>96.0</td>\n",
              "      <td>88.0</td>\n",
              "      <td>71.0</td>\n",
              "      <td>1.0</td>\n",
              "    </tr>\n",
              "    <tr>\n",
              "      <th>7</th>\n",
              "      <td>Haryana</td>\n",
              "      <td>74.91</td>\n",
              "      <td>51.00</td>\n",
              "      <td>44.50</td>\n",
              "      <td>1.05</td>\n",
              "      <td>15.89</td>\n",
              "      <td>95.33</td>\n",
              "      <td>75.02</td>\n",
              "      <td>54.0</td>\n",
              "      <td>36.0</td>\n",
              "      <td>45.0</td>\n",
              "      <td>87.0</td>\n",
              "      <td>74.0</td>\n",
              "      <td>93.0</td>\n",
              "      <td>68.0</td>\n",
              "      <td>65.0</td>\n",
              "      <td>1.0</td>\n",
              "    </tr>\n",
              "    <tr>\n",
              "      <th>9</th>\n",
              "      <td>Jammu &amp; Kashmir</td>\n",
              "      <td>57.22</td>\n",
              "      <td>54.33</td>\n",
              "      <td>38.00</td>\n",
              "      <td>2.04</td>\n",
              "      <td>17.28</td>\n",
              "      <td>56.39</td>\n",
              "      <td>96.07</td>\n",
              "      <td>22.0</td>\n",
              "      <td>48.0</td>\n",
              "      <td>16.0</td>\n",
              "      <td>70.0</td>\n",
              "      <td>67.0</td>\n",
              "      <td>37.0</td>\n",
              "      <td>95.0</td>\n",
              "      <td>51.0</td>\n",
              "      <td>1.0</td>\n",
              "    </tr>\n",
              "    <tr>\n",
              "      <th>11</th>\n",
              "      <td>Karnataka</td>\n",
              "      <td>85.54</td>\n",
              "      <td>68.67</td>\n",
              "      <td>54.50</td>\n",
              "      <td>1.49</td>\n",
              "      <td>26.18</td>\n",
              "      <td>95.85</td>\n",
              "      <td>76.05</td>\n",
              "      <td>73.0</td>\n",
              "      <td>100.0</td>\n",
              "      <td>88.0</td>\n",
              "      <td>79.0</td>\n",
              "      <td>27.0</td>\n",
              "      <td>94.0</td>\n",
              "      <td>69.0</td>\n",
              "      <td>76.0</td>\n",
              "      <td>1.0</td>\n",
              "    </tr>\n",
              "    <tr>\n",
              "      <th>13</th>\n",
              "      <td>Madhya Pradesh</td>\n",
              "      <td>69.74</td>\n",
              "      <td>53.33</td>\n",
              "      <td>45.50</td>\n",
              "      <td>3.78</td>\n",
              "      <td>24.77</td>\n",
              "      <td>77.25</td>\n",
              "      <td>71.03</td>\n",
              "      <td>45.0</td>\n",
              "      <td>44.0</td>\n",
              "      <td>49.0</td>\n",
              "      <td>40.0</td>\n",
              "      <td>34.0</td>\n",
              "      <td>67.0</td>\n",
              "      <td>63.0</td>\n",
              "      <td>49.0</td>\n",
              "      <td>1.0</td>\n",
              "    </tr>\n",
              "    <tr>\n",
              "      <th>15</th>\n",
              "      <td>Maharastra</td>\n",
              "      <td>80.92</td>\n",
              "      <td>56.33</td>\n",
              "      <td>46.25</td>\n",
              "      <td>0.81</td>\n",
              "      <td>12.87</td>\n",
              "      <td>99.02</td>\n",
              "      <td>75.32</td>\n",
              "      <td>65.0</td>\n",
              "      <td>56.0</td>\n",
              "      <td>52.0</td>\n",
              "      <td>91.0</td>\n",
              "      <td>87.0</td>\n",
              "      <td>99.0</td>\n",
              "      <td>68.0</td>\n",
              "      <td>74.0</td>\n",
              "      <td>1.0</td>\n",
              "    </tr>\n",
              "    <tr>\n",
              "      <th>17</th>\n",
              "      <td>Manipur</td>\n",
              "      <td>88.21</td>\n",
              "      <td>58.67</td>\n",
              "      <td>44.75</td>\n",
              "      <td>1.72</td>\n",
              "      <td>14.38</td>\n",
              "      <td>43.27</td>\n",
              "      <td>93.15</td>\n",
              "      <td>78.0</td>\n",
              "      <td>65.0</td>\n",
              "      <td>46.0</td>\n",
              "      <td>75.0</td>\n",
              "      <td>80.0</td>\n",
              "      <td>18.0</td>\n",
              "      <td>91.0</td>\n",
              "      <td>65.0</td>\n",
              "      <td>1.0</td>\n",
              "    </tr>\n",
              "    <tr>\n",
              "      <th>19</th>\n",
              "      <td>Meghalaya</td>\n",
              "      <td>68.39</td>\n",
              "      <td>45.33</td>\n",
              "      <td>39.25</td>\n",
              "      <td>2.9</td>\n",
              "      <td>20.52</td>\n",
              "      <td>30.47</td>\n",
              "      <td>86.87</td>\n",
              "      <td>42.0</td>\n",
              "      <td>14.0</td>\n",
              "      <td>22.0</td>\n",
              "      <td>55.0</td>\n",
              "      <td>53.0</td>\n",
              "      <td>0.0</td>\n",
              "      <td>83.0</td>\n",
              "      <td>38.0</td>\n",
              "      <td>1.0</td>\n",
              "    </tr>\n",
              "    <tr>\n",
              "      <th>21</th>\n",
              "      <td>Mizoram</td>\n",
              "      <td>79.60</td>\n",
              "      <td>48.67</td>\n",
              "      <td>36.75</td>\n",
              "      <td>0.6</td>\n",
              "      <td>21.88</td>\n",
              "      <td>60.40</td>\n",
              "      <td>94.23</td>\n",
              "      <td>63.0</td>\n",
              "      <td>27.0</td>\n",
              "      <td>11.0</td>\n",
              "      <td>94.0</td>\n",
              "      <td>47.0</td>\n",
              "      <td>43.0</td>\n",
              "      <td>93.0</td>\n",
              "      <td>54.0</td>\n",
              "      <td>1.0</td>\n",
              "    </tr>\n",
              "    <tr>\n",
              "      <th>23</th>\n",
              "      <td>Nagaland</td>\n",
              "      <td>56.24</td>\n",
              "      <td>49.67</td>\n",
              "      <td>37.75</td>\n",
              "      <td>0.9</td>\n",
              "      <td>18.23</td>\n",
              "      <td>32.92</td>\n",
              "      <td>95.91</td>\n",
              "      <td>20.0</td>\n",
              "      <td>31.0</td>\n",
              "      <td>15.0</td>\n",
              "      <td>89.0</td>\n",
              "      <td>63.0</td>\n",
              "      <td>4.0</td>\n",
              "      <td>95.0</td>\n",
              "      <td>45.0</td>\n",
              "      <td>1.0</td>\n",
              "    </tr>\n",
              "    <tr>\n",
              "      <th>25</th>\n",
              "      <td>Punjab</td>\n",
              "      <td>78.56</td>\n",
              "      <td>48.00</td>\n",
              "      <td>39.25</td>\n",
              "      <td>2.28</td>\n",
              "      <td>8.86</td>\n",
              "      <td>91.38</td>\n",
              "      <td>86.01</td>\n",
              "      <td>61.0</td>\n",
              "      <td>24.0</td>\n",
              "      <td>22.0</td>\n",
              "      <td>66.0</td>\n",
              "      <td>100.0</td>\n",
              "      <td>88.0</td>\n",
              "      <td>82.0</td>\n",
              "      <td>63.0</td>\n",
              "      <td>1.0</td>\n",
              "    </tr>\n",
              "    <tr>\n",
              "      <th>27</th>\n",
              "      <td>Sikkim</td>\n",
              "      <td>45.47</td>\n",
              "      <td>45.67</td>\n",
              "      <td>39.25</td>\n",
              "      <td>0.58</td>\n",
              "      <td>15.89</td>\n",
              "      <td>48.40</td>\n",
              "      <td>99.03</td>\n",
              "      <td>0.0</td>\n",
              "      <td>15.0</td>\n",
              "      <td>22.0</td>\n",
              "      <td>95.0</td>\n",
              "      <td>74.0</td>\n",
              "      <td>26.0</td>\n",
              "      <td>99.0</td>\n",
              "      <td>47.0</td>\n",
              "      <td>1.0</td>\n",
              "    </tr>\n",
              "    <tr>\n",
              "      <th>29</th>\n",
              "      <td>Telangana</td>\n",
              "      <td>82.54</td>\n",
              "      <td>55.67</td>\n",
              "      <td>42.00</td>\n",
              "      <td>Null</td>\n",
              "      <td>15.53</td>\n",
              "      <td>97.64</td>\n",
              "      <td>77.81</td>\n",
              "      <td>68.0</td>\n",
              "      <td>53.0</td>\n",
              "      <td>34.0</td>\n",
              "      <td>0.0</td>\n",
              "      <td>75.0</td>\n",
              "      <td>97.0</td>\n",
              "      <td>72.0</td>\n",
              "      <td>66.0</td>\n",
              "      <td>1.0</td>\n",
              "    </tr>\n",
              "    <tr>\n",
              "      <th>31</th>\n",
              "      <td>Uttar Pradesh</td>\n",
              "      <td>68.71</td>\n",
              "      <td>50.67</td>\n",
              "      <td>44.25</td>\n",
              "      <td>3.9</td>\n",
              "      <td>10.22</td>\n",
              "      <td>77.51</td>\n",
              "      <td>55.96</td>\n",
              "      <td>43.0</td>\n",
              "      <td>34.0</td>\n",
              "      <td>44.0</td>\n",
              "      <td>38.0</td>\n",
              "      <td>99.0</td>\n",
              "      <td>68.0</td>\n",
              "      <td>44.0</td>\n",
              "      <td>53.0</td>\n",
              "      <td>1.0</td>\n",
              "    </tr>\n",
              "    <tr>\n",
              "      <th>33</th>\n",
              "      <td>West Bengal</td>\n",
              "      <td>72.28</td>\n",
              "      <td>52.67</td>\n",
              "      <td>43.25</td>\n",
              "      <td>2.45</td>\n",
              "      <td>17.8</td>\n",
              "      <td>52.53</td>\n",
              "      <td>74.64</td>\n",
              "      <td>49.0</td>\n",
              "      <td>42.0</td>\n",
              "      <td>39.0</td>\n",
              "      <td>63.0</td>\n",
              "      <td>65.0</td>\n",
              "      <td>32.0</td>\n",
              "      <td>68.0</td>\n",
              "      <td>51.0</td>\n",
              "      <td>1.0</td>\n",
              "    </tr>\n",
              "    <tr>\n",
              "      <th>35</th>\n",
              "      <td>Chandigarh</td>\n",
              "      <td>78.74</td>\n",
              "      <td>67.00</td>\n",
              "      <td>53.00</td>\n",
              "      <td>0.44</td>\n",
              "      <td>Null</td>\n",
              "      <td>98.88</td>\n",
              "      <td>82.00</td>\n",
              "      <td>61.0</td>\n",
              "      <td>97.0</td>\n",
              "      <td>82.0</td>\n",
              "      <td>97.0</td>\n",
              "      <td>0.0</td>\n",
              "      <td>98.0</td>\n",
              "      <td>77.0</td>\n",
              "      <td>85.0</td>\n",
              "      <td>1.0</td>\n",
              "    </tr>\n",
              "    <tr>\n",
              "      <th>37</th>\n",
              "      <td>Daman and Diu</td>\n",
              "      <td>67.05</td>\n",
              "      <td>46.67</td>\n",
              "      <td>38.50</td>\n",
              "      <td>1.28</td>\n",
              "      <td>32.27</td>\n",
              "      <td>92.47</td>\n",
              "      <td>79.17</td>\n",
              "      <td>40.0</td>\n",
              "      <td>19.0</td>\n",
              "      <td>19.0</td>\n",
              "      <td>83.0</td>\n",
              "      <td>0.0</td>\n",
              "      <td>89.0</td>\n",
              "      <td>73.0</td>\n",
              "      <td>46.0</td>\n",
              "      <td>1.0</td>\n",
              "    </tr>\n",
              "    <tr>\n",
              "      <th>39</th>\n",
              "      <td>Lakshadweep</td>\n",
              "      <td>81.94</td>\n",
              "      <td>47.33</td>\n",
              "      <td>36.00</td>\n",
              "      <td>3.67</td>\n",
              "      <td>6.76</td>\n",
              "      <td>96.51</td>\n",
              "      <td>100.00</td>\n",
              "      <td>67.0</td>\n",
              "      <td>22.0</td>\n",
              "      <td>8.0</td>\n",
              "      <td>42.0</td>\n",
              "      <td>100.0</td>\n",
              "      <td>95.0</td>\n",
              "      <td>100.0</td>\n",
              "      <td>62.0</td>\n",
              "      <td>1.0</td>\n",
              "    </tr>\n",
              "  </tbody>\n",
              "</table>\n",
              "</div>\n",
              "      <button class=\"colab-df-convert\" onclick=\"convertToInteractive('df-ff4f8003-0674-4ea5-8d22-c109b16a5f5d')\"\n",
              "              title=\"Convert this dataframe to an interactive table.\"\n",
              "              style=\"display:none;\">\n",
              "        \n",
              "  <svg xmlns=\"http://www.w3.org/2000/svg\" height=\"24px\"viewBox=\"0 0 24 24\"\n",
              "       width=\"24px\">\n",
              "    <path d=\"M0 0h24v24H0V0z\" fill=\"none\"/>\n",
              "    <path d=\"M18.56 5.44l.94 2.06.94-2.06 2.06-.94-2.06-.94-.94-2.06-.94 2.06-2.06.94zm-11 1L8.5 8.5l.94-2.06 2.06-.94-2.06-.94L8.5 2.5l-.94 2.06-2.06.94zm10 10l.94 2.06.94-2.06 2.06-.94-2.06-.94-.94-2.06-.94 2.06-2.06.94z\"/><path d=\"M17.41 7.96l-1.37-1.37c-.4-.4-.92-.59-1.43-.59-.52 0-1.04.2-1.43.59L10.3 9.45l-7.72 7.72c-.78.78-.78 2.05 0 2.83L4 21.41c.39.39.9.59 1.41.59.51 0 1.02-.2 1.41-.59l7.78-7.78 2.81-2.81c.8-.78.8-2.07 0-2.86zM5.41 20L4 18.59l7.72-7.72 1.47 1.35L5.41 20z\"/>\n",
              "  </svg>\n",
              "      </button>\n",
              "      \n",
              "  <style>\n",
              "    .colab-df-container {\n",
              "      display:flex;\n",
              "      flex-wrap:wrap;\n",
              "      gap: 12px;\n",
              "    }\n",
              "\n",
              "    .colab-df-convert {\n",
              "      background-color: #E8F0FE;\n",
              "      border: none;\n",
              "      border-radius: 50%;\n",
              "      cursor: pointer;\n",
              "      display: none;\n",
              "      fill: #1967D2;\n",
              "      height: 32px;\n",
              "      padding: 0 0 0 0;\n",
              "      width: 32px;\n",
              "    }\n",
              "\n",
              "    .colab-df-convert:hover {\n",
              "      background-color: #E2EBFA;\n",
              "      box-shadow: 0px 1px 2px rgba(60, 64, 67, 0.3), 0px 1px 3px 1px rgba(60, 64, 67, 0.15);\n",
              "      fill: #174EA6;\n",
              "    }\n",
              "\n",
              "    [theme=dark] .colab-df-convert {\n",
              "      background-color: #3B4455;\n",
              "      fill: #D2E3FC;\n",
              "    }\n",
              "\n",
              "    [theme=dark] .colab-df-convert:hover {\n",
              "      background-color: #434B5C;\n",
              "      box-shadow: 0px 1px 3px 1px rgba(0, 0, 0, 0.15);\n",
              "      filter: drop-shadow(0px 1px 2px rgba(0, 0, 0, 0.3));\n",
              "      fill: #FFFFFF;\n",
              "    }\n",
              "  </style>\n",
              "\n",
              "      <script>\n",
              "        const buttonEl =\n",
              "          document.querySelector('#df-ff4f8003-0674-4ea5-8d22-c109b16a5f5d button.colab-df-convert');\n",
              "        buttonEl.style.display =\n",
              "          google.colab.kernel.accessAllowed ? 'block' : 'none';\n",
              "\n",
              "        async function convertToInteractive(key) {\n",
              "          const element = document.querySelector('#df-ff4f8003-0674-4ea5-8d22-c109b16a5f5d');\n",
              "          const dataTable =\n",
              "            await google.colab.kernel.invokeFunction('convertToInteractive',\n",
              "                                                     [key], {});\n",
              "          if (!dataTable) return;\n",
              "\n",
              "          const docLinkHtml = 'Like what you see? Visit the ' +\n",
              "            '<a target=\"_blank\" href=https://colab.research.google.com/notebooks/data_table.ipynb>data table notebook</a>'\n",
              "            + ' to learn more about interactive tables.';\n",
              "          element.innerHTML = '';\n",
              "          dataTable['output_type'] = 'display_data';\n",
              "          await google.colab.output.renderOutput(dataTable, element);\n",
              "          const docLink = document.createElement('div');\n",
              "          docLink.innerHTML = docLinkHtml;\n",
              "          element.appendChild(docLink);\n",
              "        }\n",
              "      </script>\n",
              "    </div>\n",
              "  </div>\n",
              "  "
            ]
          },
          "metadata": {},
          "execution_count": 78
        }
      ],
      "source": [
        "new_dataset"
      ]
    },
    {
      "cell_type": "code",
      "execution_count": null,
      "id": "ef7f9c7e",
      "metadata": {
        "id": "ef7f9c7e"
      },
      "outputs": [],
      "source": [
        "X = new_dataset.drop(columns='Class', axis=1)\n",
        "Y = new_dataset['Class']"
      ]
    },
    {
      "cell_type": "code",
      "execution_count": null,
      "id": "db6f87f7",
      "metadata": {
        "id": "db6f87f7"
      },
      "outputs": [],
      "source": [
        "X_train, X_test, Y_train, Y_test = train_test_split(X, Y)"
      ]
    },
    {
      "cell_type": "code",
      "execution_count": null,
      "id": "1f846d03",
      "metadata": {
        "colab": {
          "base_uri": "https://localhost:8080/"
        },
        "id": "1f846d03",
        "outputId": "818f0261-cf8c-4d72-d015-3622b9a81d5b"
      },
      "outputs": [
        {
          "output_type": "stream",
          "name": "stdout",
          "text": [
            "(21, 16) (15, 16) (6, 16)\n"
          ]
        }
      ],
      "source": [
        "print(X.shape, X_train.shape, X_test.shape)"
      ]
    },
    {
      "cell_type": "code",
      "execution_count": null,
      "id": "dfeb6e86",
      "metadata": {
        "id": "dfeb6e86"
      },
      "outputs": [],
      "source": [
        "neigh = KNeighborsClassifier(n_neighbors=3)"
      ]
    },
    {
      "cell_type": "code",
      "execution_count": null,
      "id": "d82da9fd",
      "metadata": {
        "id": "d82da9fd"
      },
      "outputs": [],
      "source": [
        "neigh.flt(X,Y)"
      ]
    },
    {
      "cell_type": "code",
      "execution_count": null,
      "id": "94f4c48e",
      "metadata": {
        "id": "94f4c48e"
      },
      "outputs": [],
      "source": [
        "score = []\n",
        "score.append(neigh.score(X_test,Y_test))\n",
        "neigh.score(X_test,Y_test)"
      ]
    },
    {
      "cell_type": "code",
      "execution_count": null,
      "id": "578ae654",
      "metadata": {
        "id": "578ae654"
      },
      "outputs": [],
      "source": [
        "neigh.predict(X_test)"
      ]
    },
    {
      "cell_type": "code",
      "execution_count": null,
      "id": "dd71d342",
      "metadata": {
        "id": "dd71d342"
      },
      "outputs": [],
      "source": [
        "X_test\n"
      ]
    },
    {
      "cell_type": "code",
      "execution_count": null,
      "id": "98712908",
      "metadata": {
        "id": "98712908"
      },
      "outputs": [],
      "source": [
        "x_test = pd.DataFrame(X_test)"
      ]
    },
    {
      "cell_type": "code",
      "execution_count": null,
      "id": "6b3efb36",
      "metadata": {
        "id": "6b3efb36"
      },
      "outputs": [],
      "source": [
        "x_test"
      ]
    },
    {
      "cell_type": "code",
      "execution_count": null,
      "id": "21994af5",
      "metadata": {
        "id": "21994af5"
      },
      "outputs": [],
      "source": [
        "x_test.iloc[0]"
      ]
    },
    {
      "cell_type": "code",
      "execution_count": null,
      "id": "52d3cf52",
      "metadata": {
        "id": "52d3cf52"
      },
      "outputs": [],
      "source": [
        "neigh.predict(x_test.iloc[0:7])"
      ]
    },
    {
      "cell_type": "code",
      "execution_count": null,
      "id": "6149e8ac",
      "metadata": {
        "id": "6149e8ac"
      },
      "outputs": [],
      "source": [
        "neigh_1 = KNeighborsClassifier(n_neighbors=1)"
      ]
    },
    {
      "cell_type": "code",
      "execution_count": null,
      "id": "b9528e8e",
      "metadata": {
        "id": "b9528e8e"
      },
      "outputs": [],
      "source": [
        "neigh_1.fit(X,Y)"
      ]
    },
    {
      "cell_type": "code",
      "execution_count": null,
      "id": "1927b1b8",
      "metadata": {
        "id": "1927b1b8"
      },
      "outputs": [],
      "source": [
        "neigh_1.score(X_test,Y_test)"
      ]
    },
    {
      "cell_type": "code",
      "execution_count": null,
      "id": "111a6de5",
      "metadata": {
        "id": "111a6de5"
      },
      "outputs": [],
      "source": [
        "neigh_2 = KNeighborsClassifier(n_neighbors=2)"
      ]
    },
    {
      "cell_type": "code",
      "execution_count": null,
      "id": "b64a1106",
      "metadata": {
        "id": "b64a1106"
      },
      "outputs": [],
      "source": [
        "neigh_2.fit(X,Y)"
      ]
    },
    {
      "cell_type": "code",
      "execution_count": null,
      "id": "0b4539d1",
      "metadata": {
        "id": "0b4539d1"
      },
      "outputs": [],
      "source": [
        "neigh_2.score(X_test,Y_test)"
      ]
    },
    {
      "cell_type": "code",
      "execution_count": null,
      "id": "3c145a63",
      "metadata": {
        "id": "3c145a63"
      },
      "outputs": [],
      "source": [
        "score.append(neigh_2.score(X_test,Y_test))"
      ]
    },
    {
      "cell_type": "code",
      "execution_count": null,
      "id": "f36844f7",
      "metadata": {
        "id": "f36844f7"
      },
      "outputs": [],
      "source": [
        "score.append(neigh_1.score(X_test,Y_test))"
      ]
    },
    {
      "cell_type": "code",
      "execution_count": null,
      "id": "b93d282e",
      "metadata": {
        "id": "b93d282e"
      },
      "outputs": [],
      "source": [
        "score"
      ]
    },
    {
      "cell_type": "code",
      "execution_count": null,
      "id": "ae4ee777",
      "metadata": {
        "id": "ae4ee777"
      },
      "outputs": [],
      "source": [
        "neigh_4 = KNeighborsClassifier(n_neighbors=4)\n",
        "neigh_4.fit(X,Y)\n",
        "score.append(neigh_4.score(X_test,Y_test))\n"
      ]
    },
    {
      "cell_type": "code",
      "execution_count": null,
      "id": "a83009b9",
      "metadata": {
        "id": "a83009b9"
      },
      "outputs": [],
      "source": [
        "neigh_5 = KNeighborsClassifier(n_neighbors=5)\n",
        "neigh_5.fit(X,Y)\n",
        "score.append(neigh_5.score(X_test,Y_test))"
      ]
    },
    {
      "cell_type": "code",
      "execution_count": null,
      "id": "70291e14",
      "metadata": {
        "id": "70291e14"
      },
      "outputs": [],
      "source": [
        "neigh_6 = KNeighborsClassifier(n_neighbors=6)\n",
        "neigh_6.fit(X,Y)\n",
        "score.append(neigh_6.score(X_test,Y_test))"
      ]
    },
    {
      "cell_type": "code",
      "execution_count": null,
      "id": "c4b39a6f",
      "metadata": {
        "id": "c4b39a6f"
      },
      "outputs": [],
      "source": [
        "neigh_7 = KNeighborsClassifier(n_neighbors=7)\n",
        "neigh_7.fit(X,Y)\n",
        "score.append(neigh_7.score(X_test,Y_test))"
      ]
    },
    {
      "cell_type": "code",
      "execution_count": null,
      "id": "04d79799",
      "metadata": {
        "id": "04d79799"
      },
      "outputs": [],
      "source": [
        "neigh_8 = KNeighborsClassifier(n_neighbors=8)\n",
        "neigh_8.fit(X,Y)\n",
        "score.append(neigh_8.score(X_test,Y_test))"
      ]
    },
    {
      "cell_type": "code",
      "execution_count": null,
      "id": "06cae3dd",
      "metadata": {
        "id": "06cae3dd"
      },
      "outputs": [],
      "source": [
        "neigh_9 = KNeighborsClassifier(n_neighbors=9)\n",
        "neigh_9.fit(X,Y)\n",
        "score.append(neigh_9.score(X_test,Y_test))"
      ]
    },
    {
      "cell_type": "code",
      "execution_count": null,
      "id": "850e6f8d",
      "metadata": {
        "id": "850e6f8d"
      },
      "outputs": [],
      "source": [
        "neigh_10 = KNeighborsClassifier(n_neighbors=10)\n",
        "neigh_10.fit(X,Y)\n",
        "score.append(neigh_10.score(X_test,Y_test))"
      ]
    },
    {
      "cell_type": "code",
      "execution_count": null,
      "id": "39215895",
      "metadata": {
        "id": "39215895"
      },
      "outputs": [],
      "source": [
        "neigh_11 = KNeighborsClassifier(n_neighbors=11)\n",
        "neigh_11.fit(X,Y)\n",
        "score.append(neigh_11.score(X_test,Y_test))"
      ]
    },
    {
      "cell_type": "code",
      "execution_count": null,
      "id": "c235fe8f",
      "metadata": {
        "id": "c235fe8f",
        "outputId": "4b2be74a-86c9-4cde-aaf4-8582911890d2"
      },
      "outputs": [
        {
          "data": {
            "text/plain": [
              "[0.7614213197969543,\n",
              " 0.8020304568527918,\n",
              " 1.0,\n",
              " 0.7258883248730964,\n",
              " 0.7157360406091371,\n",
              " 0.7208121827411168,\n",
              " 0.7411167512690355,\n",
              " 0.7461928934010152,\n",
              " 0.7614213197969543,\n",
              " 0.7258883248730964,\n",
              " 0.7055837563451777]"
            ]
          },
          "execution_count": 272,
          "metadata": {},
          "output_type": "execute_result"
        }
      ],
      "source": [
        "score"
      ]
    },
    {
      "cell_type": "code",
      "execution_count": null,
      "id": "2d962a85",
      "metadata": {
        "id": "2d962a85"
      },
      "outputs": [],
      "source": [
        "k_index = [1,2,3,4,5,6,7,8,9,10,11]"
      ]
    },
    {
      "cell_type": "code",
      "execution_count": null,
      "id": "56df9717",
      "metadata": {
        "id": "56df9717",
        "outputId": "e414c528-5ec9-4209-9a3d-5ea2120cb075"
      },
      "outputs": [
        {
          "data": {
            "text/plain": [
              "[<matplotlib.lines.Line2D at 0x1d5305aed00>]"
            ]
          },
          "execution_count": 275,
          "metadata": {},
          "output_type": "execute_result"
        },
        {
          "data": {
            "image/png": "[encoded data removed]",
            "text/plain": [
              "<Figure size 432x288 with 1 Axes>"
            ]
          },
          "metadata": {
            "needs_background": "light"
          },
          "output_type": "display_data"
        }
      ],
      "source": [
        "plt.plot(score,k_index,'b-o')"
      ]
    },
    {
      "cell_type": "code",
      "execution_count": null,
      "id": "40ffbacc",
      "metadata": {
        "id": "40ffbacc"
      },
      "outputs": [],
      "source": []
    }
  ],
  "metadata": {
    "kernelspec": {
      "display_name": "Python 3 (ipykernel)",
      "language": "python",
      "name": "python3"
    },
    "language_info": {
      "codemirror_mode": {
        "name": "ipython",
        "version": 3
      },
      "file_extension": ".py",
      "mimetype": "text/x-python",
      "name": "python",
      "nbconvert_exporter": "python",
      "pygments_lexer": "ipython3",
      "version": "3.9.12"
    },
    "colab": {
      "provenance": [],
      "collapsed_sections": [],
      "include_colab_link": true
    }
  },
  "nbformat": 4,
  "nbformat_minor": 5
}